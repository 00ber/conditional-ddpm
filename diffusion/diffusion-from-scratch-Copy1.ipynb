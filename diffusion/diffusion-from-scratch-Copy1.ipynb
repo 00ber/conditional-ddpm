{
 "cells": [
  {
   "cell_type": "code",
   "execution_count": 1,
   "id": "9d52fde4-15fd-45fb-abbe-e3441f114b25",
   "metadata": {},
   "outputs": [],
   "source": [
    "import torch\n",
    "import torch.nn as nn\n",
    "import torch.nn.functional as F"
   ]
  },
  {
   "cell_type": "code",
   "execution_count": 2,
   "id": "d068f7ae-8622-4dce-b29a-f861368a19c4",
   "metadata": {},
   "outputs": [],
   "source": [
    "from datasets import load_dataset\n",
    "\n",
    "dataset = load_dataset(\"cifar10\", split=\"train[:5000]\")"
   ]
  },
  {
   "cell_type": "code",
   "execution_count": 3,
   "id": "993f34af-bf99-43af-afbb-5e66e06cf136",
   "metadata": {},
   "outputs": [
    {
     "data": {
      "text/plain": [
       "Dataset({\n",
       "    features: ['img', 'label'],\n",
       "    num_rows: 5000\n",
       "})"
      ]
     },
     "execution_count": 3,
     "metadata": {},
     "output_type": "execute_result"
    }
   ],
   "source": [
    "dataset"
   ]
  },
  {
   "cell_type": "code",
   "execution_count": 32,
   "id": "1369bfb2-8823-402c-b002-2241a89a4a6d",
   "metadata": {},
   "outputs": [],
   "source": [
    "class NoiseSchedulerV2:\n",
    "    def __init__(self, noise_steps=1000, beta_start=1e-4, beta_end=0.02, img_size=64, device=\"cuda\"):\n",
    "        self.noise_steps = noise_steps\n",
    "        self.beta_start = beta_start\n",
    "        self.beta_end = beta_end\n",
    "        self.img_size = img_size\n",
    "        self.device = device\n",
    "\n",
    "        self.beta = self.prepare_noise_schedule().to(device)\n",
    "        self.alpha = 1. - self.beta\n",
    "        self.alpha_hat = torch.cumprod(self.alpha, dim=0)\n",
    "\n",
    "    def prepare_noise_schedule(self):\n",
    "        return torch.linspace(self.beta_start, self.beta_end, self.noise_steps)\n",
    "\n",
    "    def noise_images(self, x, t):\n",
    "        sqrt_alpha_hat = torch.sqrt(self.alpha_hat[t])[:, None, None, None]\n",
    "        sqrt_one_minus_alpha_hat = torch.sqrt(1 - self.alpha_hat[t])[:, None, None, None]\n",
    "        Ɛ = torch.randn_like(x)\n",
    "        return sqrt_alpha_hat * x + sqrt_one_minus_alpha_hat * Ɛ, Ɛ\n",
    "\n",
    "    def sample_timesteps(self, n):\n",
    "        return torch.randint(low=1, high=self.noise_steps, size=(n,))"
   ]
  },
  {
   "cell_type": "code",
   "execution_count": 33,
   "id": "b1f26c69-d7a4-4c9b-8ea1-3b2fa7e94214",
   "metadata": {},
   "outputs": [],
   "source": [
    "class NoiseScheduler:\n",
    "    def __init__(self, num_timesteps=500, device=\"cuda\"):\n",
    "        self.num_timesteps = num_timesteps\n",
    "        self.beta_start = 1e-4\n",
    "        self.beta_end = 0.02\n",
    "        self.betas = torch.linspace(self.beta_start, self.beta_end, self.num_timesteps).to(device)\n",
    "        self.alphas = (1.0 - self.betas).to(device)\n",
    "        self.alphas_cumprod = torch.cumprod(self.alphas, dim=0).to(device)\n",
    "       \n",
    "    def add_noise(self, image, noise, timesteps):\n",
    "        self.alphas_cumprod =  self.alphas_cumprod.to(image.device)\n",
    "        noise = noise.to(image.device)\n",
    "        timesteps = timesteps.to(image.device)\n",
    "        \n",
    "        sqrt_alpha_cumprod = self.alphas_cumprod[timesteps] ** 0.5\n",
    "        sqrt_one_minus_alpha_cumprod = (1 - self.alphas_cumprod[timesteps]) ** 0.5\n",
    "        \n",
    "        sqrt_alpha_cumprod = sqrt_alpha_cumprod.flatten()\n",
    "        while len(sqrt_alpha_cumprod.shape) < len(x.shape):\n",
    "            sqrt_alpha_cumprod = sqrt_alpha_cumprod.unsqueeze(-1)\n",
    "\n",
    "        sqrt_one_minus_alpha_cumprod = sqrt_one_minus_alpha_cumprod.flatten()\n",
    "        while len(sqrt_one_minus_alpha_cumprod.shape) < len(x.shape):\n",
    "            sqrt_one_minus_alpha_cumprod = sqrt_one_minus_alpha_cumprod.unsqueeze(-1)\n",
    "    \n",
    "        noised_image = sqrt_alpha_cumprod.to(image.device) * image + sqrt_one_minus_alpha_cumprod.to(image.device) * noise.to(image.device)\n",
    "        return noised_image"
   ]
  },
  {
   "cell_type": "code",
   "execution_count": 34,
   "id": "36425873-ff1b-4f04-b7d2-faab8495e06a",
   "metadata": {},
   "outputs": [],
   "source": [
    "from torchvision import transforms\n",
    "from PIL import Image\n",
    "\n",
    "preprocess = transforms.Compose(\n",
    "    [\n",
    "        transforms.Resize((64, 64)),\n",
    "        transforms.RandomHorizontalFlip(),\n",
    "        transforms.ToTensor(),\n",
    "        transforms.Normalize([0.5], [0.5]),\n",
    "    ]\n",
    ")\n",
    "\n",
    "def transform(examples):\n",
    "    images = [preprocess(image.convert(\"RGB\")) for image in examples[\"img\"]]\n",
    "    return {\"images\": images}\n",
    "\n",
    "dataset.set_transform(transform)"
   ]
  },
  {
   "cell_type": "code",
   "execution_count": 35,
   "id": "88a1127e-a037-440d-bdeb-cb7f7c4a9f90",
   "metadata": {},
   "outputs": [],
   "source": [
    "# from diffusers import UNet2DModel\n",
    "\n",
    "device = \"cuda\"\n",
    "# unet = UNet2DModel()"
   ]
  },
  {
   "cell_type": "code",
   "execution_count": 77,
   "id": "f6e9bbbd-bf1e-4dbf-82e7-fe9c13acb522",
   "metadata": {},
   "outputs": [],
   "source": [
    "class DownBlock(nn.Module):\n",
    "    def __init__(self, input_channels, output_channels, embedding_dim):\n",
    "        super().__init__()\n",
    "        self.input_channels = input_channels\n",
    "        self.output_channels = output_channels\n",
    "        self.time_embeddings = nn.Sequential(\n",
    "            nn.SiLU(),\n",
    "            nn.Linear(\n",
    "                embedding_dim,\n",
    "                input_channels\n",
    "            )\n",
    "        )\n",
    "        # self.kernel_size = kernel_size\n",
    "        self.conv = nn.Sequential(\n",
    "            nn.Conv2d(input_channels, output_channels, kernel_size=3, padding=1),\n",
    "            nn.ReLU(),\n",
    "            nn.MaxPool2d(kernel_size=2, stride=2)\n",
    "            # nn.Conv2d(output_channels, output_channels, kernel_size=kernel_size, stride=stride, padding=padding),\n",
    "        )\n",
    "\n",
    "    def forward(self, x, t_emb):\n",
    "        # print(t_emb.shape)\n",
    "        t = self.time_embeddings(t_emb)[:, :, None, None].repeat(1, 1, x.shape[-2], x.shape[-1])\n",
    "        # print(t.shape)\n",
    "        # print(x.shape)\n",
    "        x = x + t\n",
    "        return self.conv(x)\n",
    "\n",
    "class UpBlock(nn.Module):\n",
    "    def __init__(self, input_channels, output_channels, kernel_size, stride, embedding_dim):\n",
    "        super().__init__()\n",
    "        self.input_channels = input_channels\n",
    "        self.output_channels = output_channels\n",
    "        self.kernel_size = kernel_size\n",
    "        self.conv = nn.Sequential(\n",
    "            nn.ConvTranspose2d(input_channels, output_channels, kernel_size=kernel_size, stride=stride),\n",
    "            nn.ReLU(),\n",
    "        )\n",
    "        self.time_embeddings = nn.Sequential(\n",
    "            nn.SiLU(),\n",
    "            nn.Linear(\n",
    "                embedding_dim,\n",
    "                input_channels\n",
    "            )\n",
    "        )\n",
    "\n",
    "    def forward(self, x, t_emb):\n",
    "        t = self.time_embeddings(t_emb)[:, :, None, None].repeat(1, 1, x.shape[-2], x.shape[-1])\n",
    "        x = x + t\n",
    "        return self.conv(x)\n",
    "\n",
    "class UNet(nn.Module):\n",
    "    def __init__(self, input_channels, output_channels, num_timesteps, embedding_dim=256):\n",
    "        super().__init__()\n",
    "        self.num_timesteps = num_timesteps\n",
    "        self.input_channels = input_channels\n",
    "        self.output_channels = output_channels\n",
    "        self.embedding_dim = embedding_dim\n",
    "        self.time_embeddings = nn.Embedding(num_timesteps, embedding_dim)\n",
    "\n",
    "        self.down_blocks = nn.ModuleList([\n",
    "            DownBlock(self.input_channels, 128, embedding_dim),\n",
    "            DownBlock(128, 256, embedding_dim),\n",
    "            DownBlock(256, 512, embedding_dim),\n",
    "            DownBlock(512, 1024, embedding_dim),\n",
    "        ])\n",
    "        self.maxpool =  nn.MaxPool2d(kernel_size=2, stride=2)\n",
    "        # self.mid_block = nn.Sequential(\n",
    "        #     nn.Conv2d(1024, 1024, kernel_size=1),\n",
    "        #     # nn.MaxPool2d(kernel_size=2),\n",
    "        #     nn.Conv2d(1024, 1024, kernel_size=1),\n",
    "        #     # nn.MaxPool2d(kernel_size=2),\n",
    "        #     nn.Conv2d(1024, 1024, kernel_size=1),\n",
    "        # )\n",
    "        self.up_blocks = nn.ModuleList([\n",
    "            UpBlock(1024, 512, 2, 2, embedding_dim),\n",
    "            UpBlock(512, 256, 2, 2, embedding_dim),\n",
    "            UpBlock(256, 128, 2, 2, embedding_dim),\n",
    "            UpBlock(128, 64, 2, 2, embedding_dim),\n",
    "        ])\n",
    "\n",
    "        self.out_conv = nn.Conv2d(64, 3, kernel_size=3, padding=1)\n",
    "        # self.timesteps = nn.Linear(262144, num_timesteps)\n",
    "        \n",
    "        \n",
    "    def forward(self, x, timesteps):\n",
    "        timesteps = timesteps.to(x.device)\n",
    "        # print(\"Initial shape: \", x.shape)\n",
    "        time_emb = self.time_embeddings(timesteps)\n",
    "        down_outs = []\n",
    "        for i, down in enumerate(self.down_blocks):\n",
    "            x = down(x, time_emb)\n",
    "            # x = self.maxpool(x)\n",
    "            down_outs.append(x)\n",
    "        # print(\"Down block\", x.shape)\n",
    "        # x = self.mid_block(x)\n",
    "        # print(\"Mid block\", x.shape)\n",
    "        down_outs = list(reversed(down_outs))\n",
    "        # print([d.shape for d in down_outs])\n",
    "        out_up = x\n",
    "        for i, up in enumerate(self.up_blocks):\n",
    "\n",
    "            dout = down_outs[i]\n",
    "            # print(\"Out up: \", out_up.shape)\n",
    "            # print(\"Dout: \", i, dout.shape)\n",
    "            out_up = up(out_up + dout, time_emb)\n",
    "            \n",
    "        # print(\"Up block\", out_up.shape)\n",
    "        x = self.out_conv(out_up)\n",
    "        # print(\"Out block\", x.shape)\n",
    "        # print(x)\n",
    "        # timesteps_out = self.timesteps(out_up.reshape(out_up.shape[0], -1))\n",
    "        \n",
    "        return x\n",
    "\n"
   ]
  },
  {
   "cell_type": "code",
   "execution_count": 78,
   "id": "f5f5fc3f-62fb-4c73-ba4d-bae0d7c95690",
   "metadata": {},
   "outputs": [],
   "source": [
    "# class MyUNET(nn.Module):\n",
    "#     def __init__(self, input_channels, output_channels, num_timesteps):\n",
    "#         super().__init__()\n",
    "#         self.unet = model = UNet2DModel(\n",
    "#             sample_size=64,  # the target image resolution\n",
    "#             in_channels=3,  # the number of input channels, 3 for RGB images\n",
    "#             out_channels=3,  # the number of output channels\n",
    "#             layers_per_block=2,  # how many ResNet layers to use per UNet block\n",
    "#             block_out_channels=(128, 128, 256, 256, 512, 512),  # the number of output channes for each UNet block\n",
    "#             down_block_types=( \n",
    "#                 \"DownBlock2D\",  # a regular ResNet downsampling block\n",
    "#                 \"DownBlock2D\", \n",
    "#                 \"DownBlock2D\", \n",
    "#                 \"DownBlock2D\", \n",
    "#                 \"AttnDownBlock2D\",  # a ResNet downsampling block with spatial self-attention\n",
    "#                 \"DownBlock2D\",\n",
    "#             ), \n",
    "#             up_block_types=(\n",
    "#                 \"UpBlock2D\",  # a regular ResNet upsampling block\n",
    "#                 \"AttnUpBlock2D\",  # a ResNet upsampling block with spatial self-attention\n",
    "#                 \"UpBlock2D\", \n",
    "#                 \"UpBlock2D\", \n",
    "#                 \"UpBlock2D\", \n",
    "#                 \"UpBlock2D\"  \n",
    "#               ),\n",
    "#         )\n",
    "#         self.timesteps = nn.Linear(12288, num_timesteps)\n",
    "\n",
    "#     def forward(self, x, timesteps):\n",
    "#         timesteps = timesteps.to(x.device)\n",
    "#         out = self.unet(x, timesteps)\n",
    "#         # print(out)\n",
    "#         timesteps_out = self.timesteps(out.sample.reshape(x.shape[0], -1))\n",
    "#         return out, timesteps_out"
   ]
  },
  {
   "cell_type": "code",
   "execution_count": 79,
   "id": "108af831-e5dd-46d7-a619-44f4cae7f8a6",
   "metadata": {},
   "outputs": [],
   "source": [
    "# _x = torch.randn(64, 1024, 4, 4).to(device)"
   ]
  },
  {
   "cell_type": "code",
   "execution_count": 80,
   "id": "383afb65-065e-4b75-9bf2-d066978f0ebd",
   "metadata": {},
   "outputs": [],
   "source": [
    "# _model = nn.Sequential(\n",
    "#     # nn.Conv2d(3, 128, 3, padding=1),\n",
    "#     # nn.MaxPool2d(kernel_size=2, stride=2)\n",
    "#     nn.ConvTranspose2d(1024, 512, kernel_size=2, stride=2),\n",
    "#     # nn.ConvTranspose2d(512, 256, kernel_size=2, stride=2),\n",
    "#     # nn.ConvTranspose2d(256, 128, kernel_size=2, stride=2),\n",
    "#     # nn.ConvTranspose2d(128, 64, kernel_size=2, stride=2),\n",
    "#     #  nn.ConvTranspose2d(128, 64, kernel_size=2, stride=2),\n",
    "#     #  nn.ConvTranspose2d(64, 32, kernel_size=2, stride=2),\n",
    "#     # nn.ConvTranspose2d(32, 16, kernel_size=2, stride=2),\n",
    "#     # nn.ConvTranspose2d(16, 8, kernel_size=2, stride=2),\n",
    "#     # nn.AvgPool2d(kernel_size=2)\n",
    "# ).to(device)\n",
    "# _model(_x).shape"
   ]
  },
  {
   "cell_type": "code",
   "execution_count": 81,
   "id": "f8737f72-6255-4a56-a118-85f339534e02",
   "metadata": {},
   "outputs": [
    {
     "data": {
      "text/plain": [
       "32768"
      ]
     },
     "execution_count": 81,
     "metadata": {},
     "output_type": "execute_result"
    }
   ],
   "source": [
    "8 * 64 * 64"
   ]
  },
  {
   "cell_type": "code",
   "execution_count": 82,
   "id": "9cef45ee-cf8e-4752-b069-7f019a9f4948",
   "metadata": {},
   "outputs": [
    {
     "data": {
      "text/plain": [
       "12288"
      ]
     },
     "execution_count": 82,
     "metadata": {},
     "output_type": "execute_result"
    }
   ],
   "source": [
    "3 * 64 * 64"
   ]
  },
  {
   "cell_type": "code",
   "execution_count": 83,
   "id": "b6e4178b-3181-4214-a59d-b3ea6e4b9397",
   "metadata": {},
   "outputs": [
    {
     "data": {
      "application/vnd.jupyter.widget-view+json": {
       "model_id": "7049f7a016c24f8e923762b5da44fef2",
       "version_major": 2,
       "version_minor": 0
      },
      "text/plain": [
       "Epoch:   0%|          | 0/20 [00:00<?, ?it/s]"
      ]
     },
     "metadata": {},
     "output_type": "display_data"
    },
    {
     "data": {
      "application/vnd.jupyter.widget-view+json": {
       "model_id": "c8b7059fded0419581733bf1b1e20719",
       "version_major": 2,
       "version_minor": 0
      },
      "text/plain": [
       "  0%|          | 0/1250 [00:00<?, ?it/s]"
      ]
     },
     "metadata": {},
     "output_type": "display_data"
    },
    {
     "data": {
      "application/vnd.jupyter.widget-view+json": {
       "model_id": "3a73d9cb87974f49a06ed6d0ccdd7802",
       "version_major": 2,
       "version_minor": 0
      },
      "text/plain": [
       "  0%|          | 0/1250 [00:00<?, ?it/s]"
      ]
     },
     "metadata": {},
     "output_type": "display_data"
    },
    {
     "data": {
      "application/vnd.jupyter.widget-view+json": {
       "model_id": "4170a7a332e748c78e37e1fd395d103a",
       "version_major": 2,
       "version_minor": 0
      },
      "text/plain": [
       "  0%|          | 0/1250 [00:00<?, ?it/s]"
      ]
     },
     "metadata": {},
     "output_type": "display_data"
    },
    {
     "data": {
      "application/vnd.jupyter.widget-view+json": {
       "model_id": "970f684949f348e19710a69e45622c17",
       "version_major": 2,
       "version_minor": 0
      },
      "text/plain": [
       "  0%|          | 0/1250 [00:00<?, ?it/s]"
      ]
     },
     "metadata": {},
     "output_type": "display_data"
    },
    {
     "data": {
      "application/vnd.jupyter.widget-view+json": {
       "model_id": "998babd72a83462281575b0cb57cdce4",
       "version_major": 2,
       "version_minor": 0
      },
      "text/plain": [
       "  0%|          | 0/1250 [00:00<?, ?it/s]"
      ]
     },
     "metadata": {},
     "output_type": "display_data"
    },
    {
     "data": {
      "application/vnd.jupyter.widget-view+json": {
       "model_id": "f3f16d41aedb462d9d117c3bfee990b8",
       "version_major": 2,
       "version_minor": 0
      },
      "text/plain": [
       "  0%|          | 0/1250 [00:00<?, ?it/s]"
      ]
     },
     "metadata": {},
     "output_type": "display_data"
    },
    {
     "data": {
      "application/vnd.jupyter.widget-view+json": {
       "model_id": "2c0b8340f69b4b82aad56f261d08b0c0",
       "version_major": 2,
       "version_minor": 0
      },
      "text/plain": [
       "  0%|          | 0/1250 [00:00<?, ?it/s]"
      ]
     },
     "metadata": {},
     "output_type": "display_data"
    },
    {
     "data": {
      "application/vnd.jupyter.widget-view+json": {
       "model_id": "f17130ea40eb4794923030a211215cda",
       "version_major": 2,
       "version_minor": 0
      },
      "text/plain": [
       "  0%|          | 0/1250 [00:00<?, ?it/s]"
      ]
     },
     "metadata": {},
     "output_type": "display_data"
    },
    {
     "data": {
      "application/vnd.jupyter.widget-view+json": {
       "model_id": "1837b3810de7484f866d204bc0ae2ddf",
       "version_major": 2,
       "version_minor": 0
      },
      "text/plain": [
       "  0%|          | 0/1250 [00:00<?, ?it/s]"
      ]
     },
     "metadata": {},
     "output_type": "display_data"
    },
    {
     "data": {
      "application/vnd.jupyter.widget-view+json": {
       "model_id": "b0b7fe936d4f4407b75b94efa2a4530a",
       "version_major": 2,
       "version_minor": 0
      },
      "text/plain": [
       "  0%|          | 0/1250 [00:00<?, ?it/s]"
      ]
     },
     "metadata": {},
     "output_type": "display_data"
    },
    {
     "data": {
      "application/vnd.jupyter.widget-view+json": {
       "model_id": "36dea4ce5189425387f490ff7a902d76",
       "version_major": 2,
       "version_minor": 0
      },
      "text/plain": [
       "  0%|          | 0/1250 [00:00<?, ?it/s]"
      ]
     },
     "metadata": {},
     "output_type": "display_data"
    },
    {
     "data": {
      "application/vnd.jupyter.widget-view+json": {
       "model_id": "49aaec5f1714494daf54b7127fed5be3",
       "version_major": 2,
       "version_minor": 0
      },
      "text/plain": [
       "  0%|          | 0/1250 [00:00<?, ?it/s]"
      ]
     },
     "metadata": {},
     "output_type": "display_data"
    },
    {
     "data": {
      "application/vnd.jupyter.widget-view+json": {
       "model_id": "cb1cb647282e405c863f4a355ed398d4",
       "version_major": 2,
       "version_minor": 0
      },
      "text/plain": [
       "  0%|          | 0/1250 [00:00<?, ?it/s]"
      ]
     },
     "metadata": {},
     "output_type": "display_data"
    },
    {
     "data": {
      "application/vnd.jupyter.widget-view+json": {
       "model_id": "c28d2410eb6f4553892c6200f93c74d5",
       "version_major": 2,
       "version_minor": 0
      },
      "text/plain": [
       "  0%|          | 0/1250 [00:00<?, ?it/s]"
      ]
     },
     "metadata": {},
     "output_type": "display_data"
    },
    {
     "data": {
      "application/vnd.jupyter.widget-view+json": {
       "model_id": "929b9b39505e4a1ab41348994258681d",
       "version_major": 2,
       "version_minor": 0
      },
      "text/plain": [
       "  0%|          | 0/1250 [00:00<?, ?it/s]"
      ]
     },
     "metadata": {},
     "output_type": "display_data"
    },
    {
     "data": {
      "application/vnd.jupyter.widget-view+json": {
       "model_id": "fd71d274e1544790af368ddec0d69717",
       "version_major": 2,
       "version_minor": 0
      },
      "text/plain": [
       "  0%|          | 0/1250 [00:00<?, ?it/s]"
      ]
     },
     "metadata": {},
     "output_type": "display_data"
    },
    {
     "data": {
      "application/vnd.jupyter.widget-view+json": {
       "model_id": "a37c52b1552b43da926458890bfd6fe9",
       "version_major": 2,
       "version_minor": 0
      },
      "text/plain": [
       "  0%|          | 0/1250 [00:00<?, ?it/s]"
      ]
     },
     "metadata": {},
     "output_type": "display_data"
    },
    {
     "data": {
      "application/vnd.jupyter.widget-view+json": {
       "model_id": "16757fbb59994694b05b36626c5ecbbe",
       "version_major": 2,
       "version_minor": 0
      },
      "text/plain": [
       "  0%|          | 0/1250 [00:00<?, ?it/s]"
      ]
     },
     "metadata": {},
     "output_type": "display_data"
    },
    {
     "data": {
      "application/vnd.jupyter.widget-view+json": {
       "model_id": "94a2912e8b094d15a09daafc94da8eaf",
       "version_major": 2,
       "version_minor": 0
      },
      "text/plain": [
       "  0%|          | 0/1250 [00:00<?, ?it/s]"
      ]
     },
     "metadata": {},
     "output_type": "display_data"
    },
    {
     "data": {
      "application/vnd.jupyter.widget-view+json": {
       "model_id": "00527f26c19a48908c1d5e2aa860191f",
       "version_major": 2,
       "version_minor": 0
      },
      "text/plain": [
       "  0%|          | 0/1250 [00:00<?, ?it/s]"
      ]
     },
     "metadata": {},
     "output_type": "display_data"
    }
   ],
   "source": [
    "import torch\n",
    "from torch.optim import Adam\n",
    "from tqdm.auto import tqdm, trange\n",
    "from diffusers import DDPMScheduler\n",
    "from diffusers.optimization import get_cosine_schedule_with_warmup\n",
    "\n",
    "\n",
    "train_dataloader = torch.utils.data.DataLoader(dataset, batch_size=4, shuffle=True)\n",
    "num_epochs = 20\n",
    "\n",
    "device = \"cuda\"\n",
    "num_timesteps = 700\n",
    "model = UNet(3, 3, num_timesteps).to(device)\n",
    "optimizer = torch.optim.AdamW(model.parameters(), lr=5e-4)\n",
    "\n",
    "# noise_scheduler = DDPMScheduler(num_train_timesteps=num_timesteps)\n",
    "# noise_scheduler = NoiseScheduler(num_timesteps, device)\n",
    "noise_scheduler = NoiseSchedulerV2(num_timesteps, device=device)\n",
    "\n",
    "lr_scheduler = get_cosine_schedule_with_warmup(\n",
    "    optimizer=optimizer,\n",
    "    num_warmup_steps=100,\n",
    "    num_training_steps=(len(train_dataloader) * num_epochs),\n",
    ")\n",
    "\n",
    "step = 0\n",
    "\n",
    "last_n_losses = []\n",
    "last_n_noise_losses = []\n",
    "last_n_timestep_losses = []\n",
    "num_losses_tracked = 100\n",
    "\n",
    "log_every = 100\n",
    "\n",
    "\n",
    "with trange(num_epochs, desc=\"Epoch\") as ep:\n",
    "    for epoch in ep:\n",
    "        for batch in tqdm(train_dataloader):\n",
    "            # optimizer.zero_grad()\n",
    "            \n",
    "            x = batch[\"images\"].to(device)\n",
    "            # noise = torch.randn(x.shape).to(x.device)\n",
    "            bs = x.shape[0]\n",
    "            # timesteps = torch.randint(0, noise_scheduler.num_timesteps, (bs,), device=x.device).long()\n",
    "            timesteps = noise_scheduler.sample_timesteps(bs)\n",
    "            # print(timesteps.shape)\n",
    "            # noisy_images = noise_scheduler.add_noise(x, noise, timesteps)\n",
    "            noisy_images, noise = noise_scheduler.noise_images(x, timesteps)\n",
    "            # print(noisy_images.shape)\n",
    "            # predicted_noise, predicted_timesteps = model(x, timesteps)\n",
    "            predicted_noise = model(noisy_images, timesteps)\n",
    "            # predicted_noise = _model(noisy_image)\n",
    "            # print(predicted_noise.shape)\n",
    "            # break\n",
    "            \n",
    "            loss = F.mse_loss(predicted_noise, noise)\n",
    "            \n",
    "            # timesteps_loss = F.cross_entropy(predicted_timesteps, timesteps.to(device))\n",
    "            # loss = 0.9 * mse_loss + 0.1 * timesteps_loss\n",
    "            # loss = mse_loss\n",
    "            last_n_losses.append(loss.item())\n",
    "            last_n_losses = last_n_losses[-num_losses_tracked:]\n",
    "\n",
    "            # last_n_noise_losses.append(mse_loss.item())\n",
    "            # last_n_noise_losses = last_n_noise_losses[-num_losses_tracked:]\n",
    "            \n",
    "            # last_n_timestep_losses.append(timesteps_loss.item())\n",
    "            # last_n_timestep_losses = last_n_timestep_losses[-num_losses_tracked:]\n",
    "            \n",
    "            loss.backward()\n",
    "            torch.nn.utils.clip_grad_norm_(model.parameters(), 1.0)\n",
    "            \n",
    "            optimizer.step()\n",
    "            lr_scheduler.step()\n",
    "            optimizer.zero_grad()\n",
    "            step +=1 \n",
    "    \n",
    "            if step % log_every == 0:\n",
    "                # print(mse_loss)\n",
    "                avg_loss = sum(last_n_losses) / len(last_n_losses)\n",
    "                # avg_noise_loss = sum(last_n_noise_losses) / len(last_n_noise_losses)\n",
    "                # avg_timestep_loss = sum(last_n_timestep_losses) / len(last_n_timestep_losses)\n",
    "                # ep.set_postfix(avg_loss=avg_loss, avg_noise_loss=avg_noise_loss, avg_timestep_loss=avg_timestep_loss)\n",
    "                ep.set_postfix(avg_loss=avg_loss)"
   ]
  },
  {
   "cell_type": "code",
   "execution_count": 115,
   "id": "787b9469-b5cf-4761-af4b-38b0ae37818b",
   "metadata": {},
   "outputs": [],
   "source": [
    "model_weights = model.state_dict()"
   ]
  },
  {
   "cell_type": "code",
   "execution_count": 112,
   "id": "7de45d13-c4e3-4d25-a617-9b1b3e512ba8",
   "metadata": {},
   "outputs": [
    {
     "data": {
      "text/plain": [
       "<All keys matched successfully>"
      ]
     },
     "execution_count": 112,
     "metadata": {},
     "output_type": "execute_result"
    }
   ],
   "source": [
    "model2 = UNet(3, 3, num_timesteps).to(device)\n",
    "model2.load_state_dict(model_weights)"
   ]
  },
  {
   "cell_type": "code",
   "execution_count": 116,
   "id": "e6a16ec0-00df-4c77-b35c-38535a7bd712",
   "metadata": {},
   "outputs": [
    {
     "data": {
      "application/vnd.jupyter.widget-view+json": {
       "model_id": "45319c96845d42ceafdfae1056e9b366",
       "version_major": 2,
       "version_minor": 0
      },
      "text/plain": [
       "Epoch:   0%|          | 0/20 [00:00<?, ?it/s]"
      ]
     },
     "metadata": {},
     "output_type": "display_data"
    },
    {
     "data": {
      "application/vnd.jupyter.widget-view+json": {
       "model_id": "d3be94470eed46ff8920ed9a95ad4594",
       "version_major": 2,
       "version_minor": 0
      },
      "text/plain": [
       "  0%|          | 0/1250 [00:00<?, ?it/s]"
      ]
     },
     "metadata": {},
     "output_type": "display_data"
    },
    {
     "data": {
      "application/vnd.jupyter.widget-view+json": {
       "model_id": "00ac893d87044a8dba18e97fcda25908",
       "version_major": 2,
       "version_minor": 0
      },
      "text/plain": [
       "  0%|          | 0/1250 [00:00<?, ?it/s]"
      ]
     },
     "metadata": {},
     "output_type": "display_data"
    },
    {
     "data": {
      "application/vnd.jupyter.widget-view+json": {
       "model_id": "99eb74b5ef7e4c6e8e1b585797bf9403",
       "version_major": 2,
       "version_minor": 0
      },
      "text/plain": [
       "  0%|          | 0/1250 [00:00<?, ?it/s]"
      ]
     },
     "metadata": {},
     "output_type": "display_data"
    },
    {
     "data": {
      "application/vnd.jupyter.widget-view+json": {
       "model_id": "752f488f695f4ee9b6221800d52a502f",
       "version_major": 2,
       "version_minor": 0
      },
      "text/plain": [
       "  0%|          | 0/1250 [00:00<?, ?it/s]"
      ]
     },
     "metadata": {},
     "output_type": "display_data"
    },
    {
     "data": {
      "application/vnd.jupyter.widget-view+json": {
       "model_id": "287c823a540e4dcea0c8c529b64e3a7e",
       "version_major": 2,
       "version_minor": 0
      },
      "text/plain": [
       "  0%|          | 0/1250 [00:00<?, ?it/s]"
      ]
     },
     "metadata": {},
     "output_type": "display_data"
    },
    {
     "data": {
      "application/vnd.jupyter.widget-view+json": {
       "model_id": "08bdc16c249149bea2a2b5e52db38d38",
       "version_major": 2,
       "version_minor": 0
      },
      "text/plain": [
       "  0%|          | 0/1250 [00:00<?, ?it/s]"
      ]
     },
     "metadata": {},
     "output_type": "display_data"
    },
    {
     "data": {
      "application/vnd.jupyter.widget-view+json": {
       "model_id": "7bad8e75526044e495150946beeb17e9",
       "version_major": 2,
       "version_minor": 0
      },
      "text/plain": [
       "  0%|          | 0/1250 [00:00<?, ?it/s]"
      ]
     },
     "metadata": {},
     "output_type": "display_data"
    },
    {
     "data": {
      "application/vnd.jupyter.widget-view+json": {
       "model_id": "5bc7d65c3ee34a8b952e6fca071d98e6",
       "version_major": 2,
       "version_minor": 0
      },
      "text/plain": [
       "  0%|          | 0/1250 [00:00<?, ?it/s]"
      ]
     },
     "metadata": {},
     "output_type": "display_data"
    },
    {
     "data": {
      "application/vnd.jupyter.widget-view+json": {
       "model_id": "28d64434adaa4fdf919bd1107ef660f1",
       "version_major": 2,
       "version_minor": 0
      },
      "text/plain": [
       "  0%|          | 0/1250 [00:00<?, ?it/s]"
      ]
     },
     "metadata": {},
     "output_type": "display_data"
    },
    {
     "data": {
      "application/vnd.jupyter.widget-view+json": {
       "model_id": "3ca8129135a64d99adce611a4ac13e56",
       "version_major": 2,
       "version_minor": 0
      },
      "text/plain": [
       "  0%|          | 0/1250 [00:00<?, ?it/s]"
      ]
     },
     "metadata": {},
     "output_type": "display_data"
    },
    {
     "data": {
      "application/vnd.jupyter.widget-view+json": {
       "model_id": "8d4a2432351b474b9c6810e8f4bcca84",
       "version_major": 2,
       "version_minor": 0
      },
      "text/plain": [
       "  0%|          | 0/1250 [00:00<?, ?it/s]"
      ]
     },
     "metadata": {},
     "output_type": "display_data"
    },
    {
     "data": {
      "application/vnd.jupyter.widget-view+json": {
       "model_id": "7bce724e53594c2bb51ef8a3e92c0d45",
       "version_major": 2,
       "version_minor": 0
      },
      "text/plain": [
       "  0%|          | 0/1250 [00:00<?, ?it/s]"
      ]
     },
     "metadata": {},
     "output_type": "display_data"
    },
    {
     "data": {
      "application/vnd.jupyter.widget-view+json": {
       "model_id": "25f8bc34728546ebbfda5a12cc3d4849",
       "version_major": 2,
       "version_minor": 0
      },
      "text/plain": [
       "  0%|          | 0/1250 [00:00<?, ?it/s]"
      ]
     },
     "metadata": {},
     "output_type": "display_data"
    },
    {
     "data": {
      "application/vnd.jupyter.widget-view+json": {
       "model_id": "195309d1a9c94312bf3dfd1c2650d89f",
       "version_major": 2,
       "version_minor": 0
      },
      "text/plain": [
       "  0%|          | 0/1250 [00:00<?, ?it/s]"
      ]
     },
     "metadata": {},
     "output_type": "display_data"
    },
    {
     "data": {
      "application/vnd.jupyter.widget-view+json": {
       "model_id": "e3e872157e3a41afb483a8c92df97d98",
       "version_major": 2,
       "version_minor": 0
      },
      "text/plain": [
       "  0%|          | 0/1250 [00:00<?, ?it/s]"
      ]
     },
     "metadata": {},
     "output_type": "display_data"
    },
    {
     "data": {
      "application/vnd.jupyter.widget-view+json": {
       "model_id": "d8e5074820bd4b11aef75e277607b29f",
       "version_major": 2,
       "version_minor": 0
      },
      "text/plain": [
       "  0%|          | 0/1250 [00:00<?, ?it/s]"
      ]
     },
     "metadata": {},
     "output_type": "display_data"
    },
    {
     "data": {
      "application/vnd.jupyter.widget-view+json": {
       "model_id": "fe2408f09899496cba58cc7e57feb2d7",
       "version_major": 2,
       "version_minor": 0
      },
      "text/plain": [
       "  0%|          | 0/1250 [00:00<?, ?it/s]"
      ]
     },
     "metadata": {},
     "output_type": "display_data"
    },
    {
     "data": {
      "application/vnd.jupyter.widget-view+json": {
       "model_id": "43a569e202d24d028800b1dd976e39cc",
       "version_major": 2,
       "version_minor": 0
      },
      "text/plain": [
       "  0%|          | 0/1250 [00:00<?, ?it/s]"
      ]
     },
     "metadata": {},
     "output_type": "display_data"
    },
    {
     "ename": "KeyboardInterrupt",
     "evalue": "",
     "output_type": "error",
     "traceback": [
      "\u001b[0;31m---------------------------------------------------------------------------\u001b[0m",
      "\u001b[0;31mKeyboardInterrupt\u001b[0m                         Traceback (most recent call last)",
      "Cell \u001b[0;32mIn[116], line 71\u001b[0m\n\u001b[1;32m     63\u001b[0m last_n_losses \u001b[38;5;241m=\u001b[39m last_n_losses[\u001b[38;5;241m-\u001b[39mnum_losses_tracked:]\n\u001b[1;32m     65\u001b[0m \u001b[38;5;66;03m# last_n_noise_losses.append(mse_loss.item())\u001b[39;00m\n\u001b[1;32m     66\u001b[0m \u001b[38;5;66;03m# last_n_noise_losses = last_n_noise_losses[-num_losses_tracked:]\u001b[39;00m\n\u001b[1;32m     67\u001b[0m \n\u001b[1;32m     68\u001b[0m \u001b[38;5;66;03m# last_n_timestep_losses.append(timesteps_loss.item())\u001b[39;00m\n\u001b[1;32m     69\u001b[0m \u001b[38;5;66;03m# last_n_timestep_losses = last_n_timestep_losses[-num_losses_tracked:]\u001b[39;00m\n\u001b[0;32m---> 71\u001b[0m \u001b[43mloss\u001b[49m\u001b[38;5;241;43m.\u001b[39;49m\u001b[43mbackward\u001b[49m\u001b[43m(\u001b[49m\u001b[43m)\u001b[49m\n\u001b[1;32m     72\u001b[0m torch\u001b[38;5;241m.\u001b[39mnn\u001b[38;5;241m.\u001b[39mutils\u001b[38;5;241m.\u001b[39mclip_grad_norm_(model\u001b[38;5;241m.\u001b[39mparameters(), \u001b[38;5;241m1.0\u001b[39m)\n\u001b[1;32m     74\u001b[0m optimizer\u001b[38;5;241m.\u001b[39mstep()\n",
      "File \u001b[0;32m~/scratch/miniconda3/envs/unsloth_env/lib/python3.10/site-packages/torch/_tensor.py:525\u001b[0m, in \u001b[0;36mTensor.backward\u001b[0;34m(self, gradient, retain_graph, create_graph, inputs)\u001b[0m\n\u001b[1;32m    515\u001b[0m \u001b[38;5;28;01mif\u001b[39;00m has_torch_function_unary(\u001b[38;5;28mself\u001b[39m):\n\u001b[1;32m    516\u001b[0m     \u001b[38;5;28;01mreturn\u001b[39;00m handle_torch_function(\n\u001b[1;32m    517\u001b[0m         Tensor\u001b[38;5;241m.\u001b[39mbackward,\n\u001b[1;32m    518\u001b[0m         (\u001b[38;5;28mself\u001b[39m,),\n\u001b[0;32m   (...)\u001b[0m\n\u001b[1;32m    523\u001b[0m         inputs\u001b[38;5;241m=\u001b[39minputs,\n\u001b[1;32m    524\u001b[0m     )\n\u001b[0;32m--> 525\u001b[0m \u001b[43mtorch\u001b[49m\u001b[38;5;241;43m.\u001b[39;49m\u001b[43mautograd\u001b[49m\u001b[38;5;241;43m.\u001b[39;49m\u001b[43mbackward\u001b[49m\u001b[43m(\u001b[49m\n\u001b[1;32m    526\u001b[0m \u001b[43m    \u001b[49m\u001b[38;5;28;43mself\u001b[39;49m\u001b[43m,\u001b[49m\u001b[43m \u001b[49m\u001b[43mgradient\u001b[49m\u001b[43m,\u001b[49m\u001b[43m \u001b[49m\u001b[43mretain_graph\u001b[49m\u001b[43m,\u001b[49m\u001b[43m \u001b[49m\u001b[43mcreate_graph\u001b[49m\u001b[43m,\u001b[49m\u001b[43m \u001b[49m\u001b[43minputs\u001b[49m\u001b[38;5;241;43m=\u001b[39;49m\u001b[43minputs\u001b[49m\n\u001b[1;32m    527\u001b[0m \u001b[43m\u001b[49m\u001b[43m)\u001b[49m\n",
      "File \u001b[0;32m~/scratch/miniconda3/envs/unsloth_env/lib/python3.10/site-packages/torch/autograd/__init__.py:267\u001b[0m, in \u001b[0;36mbackward\u001b[0;34m(tensors, grad_tensors, retain_graph, create_graph, grad_variables, inputs)\u001b[0m\n\u001b[1;32m    262\u001b[0m     retain_graph \u001b[38;5;241m=\u001b[39m create_graph\n\u001b[1;32m    264\u001b[0m \u001b[38;5;66;03m# The reason we repeat the same comment below is that\u001b[39;00m\n\u001b[1;32m    265\u001b[0m \u001b[38;5;66;03m# some Python versions print out the first line of a multi-line function\u001b[39;00m\n\u001b[1;32m    266\u001b[0m \u001b[38;5;66;03m# calls in the traceback and some print out the last line\u001b[39;00m\n\u001b[0;32m--> 267\u001b[0m \u001b[43m_engine_run_backward\u001b[49m\u001b[43m(\u001b[49m\n\u001b[1;32m    268\u001b[0m \u001b[43m    \u001b[49m\u001b[43mtensors\u001b[49m\u001b[43m,\u001b[49m\n\u001b[1;32m    269\u001b[0m \u001b[43m    \u001b[49m\u001b[43mgrad_tensors_\u001b[49m\u001b[43m,\u001b[49m\n\u001b[1;32m    270\u001b[0m \u001b[43m    \u001b[49m\u001b[43mretain_graph\u001b[49m\u001b[43m,\u001b[49m\n\u001b[1;32m    271\u001b[0m \u001b[43m    \u001b[49m\u001b[43mcreate_graph\u001b[49m\u001b[43m,\u001b[49m\n\u001b[1;32m    272\u001b[0m \u001b[43m    \u001b[49m\u001b[43minputs\u001b[49m\u001b[43m,\u001b[49m\n\u001b[1;32m    273\u001b[0m \u001b[43m    \u001b[49m\u001b[43mallow_unreachable\u001b[49m\u001b[38;5;241;43m=\u001b[39;49m\u001b[38;5;28;43;01mTrue\u001b[39;49;00m\u001b[43m,\u001b[49m\n\u001b[1;32m    274\u001b[0m \u001b[43m    \u001b[49m\u001b[43maccumulate_grad\u001b[49m\u001b[38;5;241;43m=\u001b[39;49m\u001b[38;5;28;43;01mTrue\u001b[39;49;00m\u001b[43m,\u001b[49m\n\u001b[1;32m    275\u001b[0m \u001b[43m\u001b[49m\u001b[43m)\u001b[49m\n",
      "File \u001b[0;32m~/scratch/miniconda3/envs/unsloth_env/lib/python3.10/site-packages/torch/autograd/graph.py:744\u001b[0m, in \u001b[0;36m_engine_run_backward\u001b[0;34m(t_outputs, *args, **kwargs)\u001b[0m\n\u001b[1;32m    742\u001b[0m     unregister_hooks \u001b[38;5;241m=\u001b[39m _register_logging_hooks_on_whole_graph(t_outputs)\n\u001b[1;32m    743\u001b[0m \u001b[38;5;28;01mtry\u001b[39;00m:\n\u001b[0;32m--> 744\u001b[0m     \u001b[38;5;28;01mreturn\u001b[39;00m \u001b[43mVariable\u001b[49m\u001b[38;5;241;43m.\u001b[39;49m\u001b[43m_execution_engine\u001b[49m\u001b[38;5;241;43m.\u001b[39;49m\u001b[43mrun_backward\u001b[49m\u001b[43m(\u001b[49m\u001b[43m  \u001b[49m\u001b[38;5;66;43;03m# Calls into the C++ engine to run the backward pass\u001b[39;49;00m\n\u001b[1;32m    745\u001b[0m \u001b[43m        \u001b[49m\u001b[43mt_outputs\u001b[49m\u001b[43m,\u001b[49m\u001b[43m \u001b[49m\u001b[38;5;241;43m*\u001b[39;49m\u001b[43margs\u001b[49m\u001b[43m,\u001b[49m\u001b[43m \u001b[49m\u001b[38;5;241;43m*\u001b[39;49m\u001b[38;5;241;43m*\u001b[39;49m\u001b[43mkwargs\u001b[49m\n\u001b[1;32m    746\u001b[0m \u001b[43m    \u001b[49m\u001b[43m)\u001b[49m  \u001b[38;5;66;03m# Calls into the C++ engine to run the backward pass\u001b[39;00m\n\u001b[1;32m    747\u001b[0m \u001b[38;5;28;01mfinally\u001b[39;00m:\n\u001b[1;32m    748\u001b[0m     \u001b[38;5;28;01mif\u001b[39;00m attach_logging_hooks:\n",
      "\u001b[0;31mKeyboardInterrupt\u001b[0m: "
     ]
    }
   ],
   "source": [
    "import torch\n",
    "from torch.optim import Adam\n",
    "from tqdm.auto import tqdm, trange\n",
    "from diffusers import DDPMScheduler\n",
    "from diffusers.optimization import get_cosine_schedule_with_warmup\n",
    "\n",
    "\n",
    "train_dataloader = torch.utils.data.DataLoader(dataset, batch_size=4, shuffle=True)\n",
    "num_epochs = 20\n",
    "\n",
    "device = \"cuda\"\n",
    "num_timesteps = 700\n",
    "model = UNet(3, 3, num_timesteps).to(device)\n",
    "model.load_state_dict(model_weights)\n",
    "optimizer = torch.optim.AdamW(model.parameters(), lr=1e-5)\n",
    "\n",
    "# noise_scheduler = DDPMScheduler(num_train_timesteps=num_timesteps)\n",
    "# noise_scheduler = NoiseScheduler(num_timesteps, device)\n",
    "noise_scheduler = NoiseSchedulerV2(num_timesteps, device=device)\n",
    "\n",
    "lr_scheduler = get_cosine_schedule_with_warmup(\n",
    "    optimizer=optimizer,\n",
    "    num_warmup_steps=100,\n",
    "    num_training_steps=(len(train_dataloader) * num_epochs),\n",
    ")\n",
    "\n",
    "step = 0\n",
    "\n",
    "last_n_losses = []\n",
    "last_n_noise_losses = []\n",
    "last_n_timestep_losses = []\n",
    "num_losses_tracked = 100\n",
    "\n",
    "log_every = 100\n",
    "\n",
    "\n",
    "with trange(num_epochs, desc=\"Epoch\") as ep:\n",
    "    for epoch in ep:\n",
    "        for batch in tqdm(train_dataloader):\n",
    "            # optimizer.zero_grad()\n",
    "            \n",
    "            x = batch[\"images\"].to(device)\n",
    "            # noise = torch.randn(x.shape).to(x.device)\n",
    "            bs = x.shape[0]\n",
    "            # timesteps = torch.randint(0, noise_scheduler.num_timesteps, (bs,), device=x.device).long()\n",
    "            timesteps = noise_scheduler.sample_timesteps(bs)\n",
    "            # print(timesteps.shape)\n",
    "            # noisy_images = noise_scheduler.add_noise(x, noise, timesteps)\n",
    "            noisy_images, noise = noise_scheduler.noise_images(x, timesteps)\n",
    "            # print(noisy_images.shape)\n",
    "            # predicted_noise, predicted_timesteps = model(x, timesteps)\n",
    "            predicted_noise = model(noisy_images, timesteps)\n",
    "            # predicted_noise = _model(noisy_image)\n",
    "            # print(predicted_noise.shape)\n",
    "            # break\n",
    "            \n",
    "            loss = F.mse_loss(predicted_noise, noise)\n",
    "            \n",
    "            # timesteps_loss = F.cross_entropy(predicted_timesteps, timesteps.to(device))\n",
    "            # loss = 0.9 * mse_loss + 0.1 * timesteps_loss\n",
    "            # loss = mse_loss\n",
    "            last_n_losses.append(loss.item())\n",
    "            last_n_losses = last_n_losses[-num_losses_tracked:]\n",
    "\n",
    "            # last_n_noise_losses.append(mse_loss.item())\n",
    "            # last_n_noise_losses = last_n_noise_losses[-num_losses_tracked:]\n",
    "            \n",
    "            # last_n_timestep_losses.append(timesteps_loss.item())\n",
    "            # last_n_timestep_losses = last_n_timestep_losses[-num_losses_tracked:]\n",
    "            \n",
    "            loss.backward()\n",
    "            torch.nn.utils.clip_grad_norm_(model.parameters(), 1.0)\n",
    "            \n",
    "            optimizer.step()\n",
    "            lr_scheduler.step()\n",
    "            optimizer.zero_grad()\n",
    "            step +=1 \n",
    "    \n",
    "            if step % log_every == 0:\n",
    "                # print(mse_loss)\n",
    "                avg_loss = sum(last_n_losses) / len(last_n_losses)\n",
    "                # avg_noise_loss = sum(last_n_noise_losses) / len(last_n_noise_losses)\n",
    "                # avg_timestep_loss = sum(last_n_timestep_losses) / len(last_n_timestep_losses)\n",
    "                # ep.set_postfix(avg_loss=avg_loss, avg_noise_loss=avg_noise_loss, avg_timestep_loss=avg_timestep_loss)\n",
    "                ep.set_postfix(avg_loss=avg_loss)"
   ]
  },
  {
   "cell_type": "code",
   "execution_count": 120,
   "id": "9f278a11-197e-4847-9525-0e75d86cfe91",
   "metadata": {},
   "outputs": [
    {
     "data": {
      "application/vnd.jupyter.widget-view+json": {
       "model_id": "f2af5bbdd84248aebbbb1eb9f5663a61",
       "version_major": 2,
       "version_minor": 0
      },
      "text/plain": [
       "0it [00:00, ?it/s]"
      ]
     },
     "metadata": {},
     "output_type": "display_data"
    },
    {
     "data": {
      "image/jpeg": "[encoded data removed]",
      "image/png": "[encoded data removed]",
      "text/plain": [
       "<PIL.Image.Image image mode=RGB size=64x64>"
      ]
     },
     "execution_count": 120,
     "metadata": {},
     "output_type": "execute_result"
    }
   ],
   "source": [
    "_out = sampleV2(model, noise_scheduler, 2)\n",
    "Image.fromarray(((_out[0].unsqueeze(0).cpu().permute(0, 2, 3, 1) + 1.0) * 127.5).type(torch.uint8).numpy()[0])"
   ]
  },
  {
   "cell_type": "code",
   "execution_count": 103,
   "id": "246d582c-c0db-407d-bdf3-61bf20bf00a7",
   "metadata": {},
   "outputs": [],
   "source": [
    "from tqdm.auto import tqdm\n",
    "\n",
    "def sample(model, noise_scheduler, n_samples, img_size, device):\n",
    "    model.eval()\n",
    "    with torch.no_grad():\n",
    "        x = torch.randn(n_samples, *img_size).to(device)\n",
    "        for i in tqdm(range(num_timesteps, 0, -1)):\n",
    "            z = torch.randn_like(x).to(device) if i >= 1 else torch.zeros_like(x).to(device)\n",
    "            t = (torch.ones(n_samples) * i).long().to(device)\n",
    "            predicted_noise = model(x)\n",
    "\n",
    "            alpha = noise_scheduler.alphas[t][:, None, None, None]\n",
    "            alpha_hat = noise_scheduler.alphas_cumprod[t][:, None, None, None]\n",
    "            beta = noise_scheduler.betas[t][:, None, None, None]\n",
    "\n",
    "            x = ((1/torch.sqrt(alpha)) * (x - ((1 - alpha)/(torch.sqrt(1 - alpha_hat))) * predicted_noise)) + torch.sqrt(beta) * z\n",
    "\n",
    "    model.train()\n",
    "    x = (x.clamp(-1, 1) + 1)/2\n",
    "    x = (x * 255).type(torch.uint8)\n",
    "    return x\n",
    "\n",
    "def sampleV2(model, scheduler, n):\n",
    "        # logging.info(f\"Sampling {n} new images....\")\n",
    "        model.eval()\n",
    "        with torch.no_grad():\n",
    "            x = torch.randn((n, 3, scheduler.img_size, scheduler.img_size)).to(scheduler.device)\n",
    "            for i in tqdm(reversed(range(1, scheduler.noise_steps)), position=0):\n",
    "                t = (torch.ones(n) * i).long().to(scheduler.device)\n",
    "                predicted_noise = model(x, t)\n",
    "                alpha = scheduler.alpha[t][:, None, None, None]\n",
    "                alpha_hat = scheduler.alpha_hat[t][:, None, None, None]\n",
    "                beta = scheduler.beta[t][:, None, None, None]\n",
    "                if i > 1:\n",
    "                    noise = torch.randn_like(x)\n",
    "                else:\n",
    "                    noise = torch.zeros_like(x)\n",
    "                x = 1 / torch.sqrt(alpha) * (x - ((1 - alpha) / (torch.sqrt(1 - alpha_hat))) * predicted_noise) + torch.sqrt(beta) * noise\n",
    "        model.train()\n",
    "        x = (x.clamp(-1, 1) + 1) / 2\n",
    "        x = (x * 255).type(torch.uint8)\n",
    "        return x"
   ]
  },
  {
   "cell_type": "code",
   "execution_count": 96,
   "id": "ff0c8d42-6f81-46c3-ad33-59eca8e78c71",
   "metadata": {},
   "outputs": [
    {
     "data": {
      "image/jpeg": "[encoded data removed]",
      "image/png": "[encoded data removed]",
      "text/plain": [
       "<PIL.Image.Image image mode=RGB size=64x64>"
      ]
     },
     "execution_count": 96,
     "metadata": {},
     "output_type": "execute_result"
    }
   ],
   "source": [
    "# _out[0].shape\n",
    "Image.fromarray(((_out[0].unsqueeze(0).cpu().permute(0, 2, 3, 1) + 1.0) * 127.5).type(torch.uint8).numpy()[0])"
   ]
  },
  {
   "cell_type": "code",
   "execution_count": 15,
   "id": "0be22c95-87c3-4afc-900e-10a2ebd774da",
   "metadata": {},
   "outputs": [],
   "source": [
    "sample_image = dataset[0][\"images\"].unsqueeze(0)"
   ]
  },
  {
   "cell_type": "code",
   "execution_count": 16,
   "id": "6ed3cd33-d84d-4861-b6e1-aeff4f0dbc96",
   "metadata": {},
   "outputs": [
    {
     "data": {
      "text/plain": [
       "tensor([500, 500, 500, 500, 500], device='cuda:0')"
      ]
     },
     "execution_count": 16,
     "metadata": {},
     "output_type": "execute_result"
    }
   ],
   "source": [
    "(torch.ones(5) * 500).long().to(device)"
   ]
  },
  {
   "cell_type": "code",
   "execution_count": 17,
   "id": "cdf5d640-2af9-4eae-889c-a61af4dfb072",
   "metadata": {},
   "outputs": [
    {
     "data": {
      "application/vnd.jupyter.widget-view+json": {
       "model_id": "8d6eba70a2c046cc9fac0ad43f4f9aa8",
       "version_major": 2,
       "version_minor": 0
      },
      "text/plain": [
       "  0%|          | 0/400 [00:00<?, ?it/s]"
      ]
     },
     "metadata": {},
     "output_type": "display_data"
    },
    {
     "name": "stderr",
     "output_type": "stream",
     "text": [
      "../aten/src/ATen/native/cuda/IndexKernel.cu:92: operator(): block: [0,0,0], thread: [0,0,0] Assertion `-sizes[i] <= index && index < sizes[i] && \"index out of bounds\"` failed.\n",
      "../aten/src/ATen/native/cuda/IndexKernel.cu:92: operator(): block: [0,0,0], thread: [1,0,0] Assertion `-sizes[i] <= index && index < sizes[i] && \"index out of bounds\"` failed.\n"
     ]
    },
    {
     "ename": "RuntimeError",
     "evalue": "CUDA error: device-side assert triggered\nCUDA kernel errors might be asynchronously reported at some other API call, so the stacktrace below might be incorrect.\nFor debugging consider passing CUDA_LAUNCH_BLOCKING=1.\nCompile with `TORCH_USE_CUDA_DSA` to enable device-side assertions.\n",
     "output_type": "error",
     "traceback": [
      "\u001b[0;31m---------------------------------------------------------------------------\u001b[0m",
      "\u001b[0;31mRuntimeError\u001b[0m                              Traceback (most recent call last)",
      "Cell \u001b[0;32mIn[17], line 1\u001b[0m\n\u001b[0;32m----> 1\u001b[0m _sam \u001b[38;5;241m=\u001b[39m \u001b[43msample\u001b[49m\u001b[43m(\u001b[49m\u001b[43mmodel\u001b[49m\u001b[43m,\u001b[49m\u001b[43m \u001b[49m\u001b[43mnoise_scheduler\u001b[49m\u001b[43m,\u001b[49m\u001b[43m \u001b[49m\u001b[38;5;241;43m2\u001b[39;49m\u001b[43m,\u001b[49m\u001b[43m \u001b[49m\u001b[43m(\u001b[49m\u001b[38;5;241;43m3\u001b[39;49m\u001b[43m,\u001b[49m\u001b[43m \u001b[49m\u001b[38;5;241;43m64\u001b[39;49m\u001b[43m,\u001b[49m\u001b[43m \u001b[49m\u001b[38;5;241;43m64\u001b[39;49m\u001b[43m)\u001b[49m\u001b[43m,\u001b[49m\u001b[43m \u001b[49m\u001b[43mdevice\u001b[49m\u001b[43m)\u001b[49m\n",
      "Cell \u001b[0;32mIn[14], line 16\u001b[0m, in \u001b[0;36msample\u001b[0;34m(model, noise_scheduler, n_samples, img_size, device)\u001b[0m\n\u001b[1;32m     13\u001b[0m         alpha_hat \u001b[38;5;241m=\u001b[39m noise_scheduler\u001b[38;5;241m.\u001b[39malphas_cumprod[t][:, \u001b[38;5;28;01mNone\u001b[39;00m, \u001b[38;5;28;01mNone\u001b[39;00m, \u001b[38;5;28;01mNone\u001b[39;00m]\n\u001b[1;32m     14\u001b[0m         beta \u001b[38;5;241m=\u001b[39m noise_scheduler\u001b[38;5;241m.\u001b[39mbetas[t][:, \u001b[38;5;28;01mNone\u001b[39;00m, \u001b[38;5;28;01mNone\u001b[39;00m, \u001b[38;5;28;01mNone\u001b[39;00m]\n\u001b[0;32m---> 16\u001b[0m         x \u001b[38;5;241m=\u001b[39m ((\u001b[38;5;241m1\u001b[39m\u001b[38;5;241m/\u001b[39mtorch\u001b[38;5;241m.\u001b[39msqrt(alpha)) \u001b[38;5;241m*\u001b[39m (x \u001b[38;5;241m-\u001b[39m (\u001b[43m(\u001b[49m\u001b[38;5;241;43m1\u001b[39;49m\u001b[43m \u001b[49m\u001b[38;5;241;43m-\u001b[39;49m\u001b[43m \u001b[49m\u001b[43malpha\u001b[49m\u001b[43m)\u001b[49m\u001b[38;5;241;43m/\u001b[39;49m\u001b[43m(\u001b[49m\u001b[43mtorch\u001b[49m\u001b[38;5;241;43m.\u001b[39;49m\u001b[43msqrt\u001b[49m\u001b[43m(\u001b[49m\u001b[38;5;241;43m1\u001b[39;49m\u001b[43m \u001b[49m\u001b[38;5;241;43m-\u001b[39;49m\u001b[43m \u001b[49m\u001b[43malpha_hat\u001b[49m\u001b[43m)\u001b[49m\u001b[43m)\u001b[49m) \u001b[38;5;241m*\u001b[39m predicted_noise)) \u001b[38;5;241m+\u001b[39m torch\u001b[38;5;241m.\u001b[39msqrt(beta) \u001b[38;5;241m*\u001b[39m z\n\u001b[1;32m     18\u001b[0m model\u001b[38;5;241m.\u001b[39mtrain()\n\u001b[1;32m     19\u001b[0m x \u001b[38;5;241m=\u001b[39m (x\u001b[38;5;241m.\u001b[39mclamp(\u001b[38;5;241m-\u001b[39m\u001b[38;5;241m1\u001b[39m, \u001b[38;5;241m1\u001b[39m) \u001b[38;5;241m+\u001b[39m \u001b[38;5;241m1\u001b[39m)\u001b[38;5;241m/\u001b[39m\u001b[38;5;241m2\u001b[39m\n",
      "\u001b[0;31mRuntimeError\u001b[0m: CUDA error: device-side assert triggered\nCUDA kernel errors might be asynchronously reported at some other API call, so the stacktrace below might be incorrect.\nFor debugging consider passing CUDA_LAUNCH_BLOCKING=1.\nCompile with `TORCH_USE_CUDA_DSA` to enable device-side assertions.\n"
     ]
    }
   ],
   "source": [
    "_sam = sample(model, noise_scheduler, 2, (3, 64, 64), device)"
   ]
  },
  {
   "cell_type": "code",
   "execution_count": 89,
   "id": "6c4d2d34-eb24-4607-83f3-e324abc7e1c4",
   "metadata": {},
   "outputs": [
    {
     "data": {
      "text/plain": [
       "<__main__.NoiseScheduler at 0x7f9fae3f23b0>"
      ]
     },
     "execution_count": 89,
     "metadata": {},
     "output_type": "execute_result"
    }
   ],
   "source": [
    "scheduler.alphas"
   ]
  },
  {
   "cell_type": "code",
   "execution_count": 48,
   "id": "ca79443b-d239-41e5-a374-817583c864a4",
   "metadata": {},
   "outputs": [
    {
     "data": {
      "text/plain": [
       "torch.Size([1, 3, 64, 64])"
      ]
     },
     "execution_count": 48,
     "metadata": {},
     "output_type": "execute_result"
    }
   ],
   "source": [
    "sample_image.shape"
   ]
  },
  {
   "cell_type": "code",
   "execution_count": 128,
   "id": "8e638d8d-c21b-4866-a709-0fec443e2c0e",
   "metadata": {},
   "outputs": [
    {
     "data": {
      "image/jpeg": "[encoded data removed]",
      "image/png": "[encoded data removed]",
      "text/plain": [
       "<PIL.Image.Image image mode=RGB size=64x64>"
      ]
     },
     "execution_count": 128,
     "metadata": {},
     "output_type": "execute_result"
    }
   ],
   "source": [
    "import torch\n",
    "from PIL import Image\n",
    "\n",
    "noise = torch.randn(sample_image.shape)\n",
    "timesteps = torch.LongTensor([50])\n",
    "noisy_image = scheduler.add_noise(sample_image, noise, timesteps)\n",
    "\n",
    "Image.fromarray(((noisy_image.permute(0, 2, 3, 1) + 1.0) * 127.5).type(torch.uint8).numpy()[0])"
   ]
  },
  {
   "cell_type": "code",
   "execution_count": 129,
   "id": "c6e3fdb7-40a9-49ff-82ad-187df195dc8b",
   "metadata": {},
   "outputs": [],
   "source": [
    "pred_noise, pred_timestep = model(noisy_image.to(device), timesteps)"
   ]
  },
  {
   "cell_type": "code",
   "execution_count": 130,
   "id": "1f92540d-c79d-499d-8ee3-3a74ed94924b",
   "metadata": {},
   "outputs": [
    {
     "data": {
      "text/plain": [
       "tensor([50], device='cuda:0')"
      ]
     },
     "execution_count": 130,
     "metadata": {},
     "output_type": "execute_result"
    }
   ],
   "source": [
    "ts = pred_timestep.argmax(-1)\n",
    "ts"
   ]
  },
  {
   "cell_type": "code",
   "execution_count": null,
   "id": "704b3088-f10f-4248-ab87-a6dbbbb8f1fe",
   "metadata": {},
   "outputs": [],
   "source": []
  },
  {
   "cell_type": "code",
   "execution_count": 179,
   "id": "c8a18113-c919-4347-a66e-ed4cfa141885",
   "metadata": {},
   "outputs": [],
   "source": [
    "alp = scheduler.alphas_cumprod[ts.to(scheduler.alphas_cumprod.device)]\n",
    "\n",
    "\n",
    "def denoise(noisy_img, alp, n):\n",
    "    alp = alp.to(noisy_img.device)\n",
    "    n = n.to(noisy_img.device)\n",
    "    return (torch.sqrt(1/alp) * noisy_img ) - (torch.sqrt((1/alp) - 1) * n)"
   ]
  },
  {
   "cell_type": "code",
   "execution_count": 132,
   "id": "528d70cf-045e-4b67-9582-d1bad7b924c3",
   "metadata": {},
   "outputs": [],
   "source": [
    "noise2 = torch.randn(sample_image.shape)\n",
    "denoised = denoise(noisy_image.clone(), alp, noise)"
   ]
  },
  {
   "cell_type": "code",
   "execution_count": 133,
   "id": "43d09e9f-cc45-411d-8ca7-511cb187c798",
   "metadata": {},
   "outputs": [
    {
     "data": {
      "image/jpeg": "[encoded data removed]",
      "image/png": "[encoded data removed]",
      "text/plain": [
       "<PIL.Image.Image image mode=RGB size=64x64>"
      ]
     },
     "execution_count": 133,
     "metadata": {},
     "output_type": "execute_result"
    }
   ],
   "source": [
    "Image.fromarray(((denoised.cpu().permute(0, 2, 3, 1) + 1.0) * 127.5).type(torch.uint8).numpy()[0])"
   ]
  },
  {
   "cell_type": "code",
   "execution_count": 134,
   "id": "135ab919-b57f-4361-98d4-eb9ab1a37898",
   "metadata": {},
   "outputs": [
    {
     "data": {
      "image/jpeg": "[encoded data removed]",
      "image/png": "[encoded data removed]",
      "text/plain": [
       "<PIL.Image.Image image mode=RGB size=64x64>"
      ]
     },
     "execution_count": 134,
     "metadata": {},
     "output_type": "execute_result"
    }
   ],
   "source": [
    "Image.fromarray(((noisy_image.cpu().permute(0, 2, 3, 1) + 1.0) * 127.5).type(torch.uint8).numpy()[0])"
   ]
  },
  {
   "cell_type": "code",
   "execution_count": 184,
   "id": "bb974c93-e4bd-4e13-a819-ba04a1a06b65",
   "metadata": {},
   "outputs": [
    {
     "data": {
      "image/jpeg": "[encoded data removed]",
      "image/png": "[encoded data removed]",
      "text/plain": [
       "<PIL.Image.Image image mode=RGB size=64x64>"
      ]
     },
     "execution_count": 184,
     "metadata": {},
     "output_type": "execute_result"
    }
   ],
   "source": [
    "import torch\n",
    "from PIL import Image\n",
    "\n",
    "noise = torch.randn(sample_image.shape)\n",
    "timesteps = torch.LongTensor([100])\n",
    "noisy_image = scheduler.add_noise(sample_image, noise, timesteps)\n",
    "\n",
    "Image.fromarray(((noisy_image.permute(0, 2, 3, 1) + 1.0) * 127.5).type(torch.uint8).numpy()[0])"
   ]
  },
  {
   "cell_type": "code",
   "execution_count": 185,
   "id": "3d9f0fcd-2efd-4ebf-84d7-76f2c1f66c1d",
   "metadata": {},
   "outputs": [],
   "source": [
    "denoised = noisy_image.clone()\n",
    "current_timesteps = 100\n",
    "for _ in range(1):\n",
    "    pred_noise, pred_timestep = model(denoised.to(device), torch.LongTensor([current_timesteps]))\n",
    "    ts = pred_timestep.argmax(-1)\n",
    "    alp = scheduler.alphas_cumprod[ts.to(scheduler.alphas_cumprod.device)]\n",
    "    # noise2 = torch.randn(sample_image.shape)\n",
    "    denoised = denoise(denoised, alp, noise)\n",
    "    current_timesteps -= 1"
   ]
  },
  {
   "cell_type": "code",
   "execution_count": 186,
   "id": "bf0fb0f9-f0c7-4c60-9e26-83713ff90e64",
   "metadata": {},
   "outputs": [
    {
     "data": {
      "image/jpeg": "[encoded data removed]",
      "image/png": "[encoded data removed]",
      "text/plain": [
       "<PIL.Image.Image image mode=RGB size=64x64>"
      ]
     },
     "execution_count": 186,
     "metadata": {},
     "output_type": "execute_result"
    }
   ],
   "source": [
    "Image.fromarray(((denoised.cpu().permute(0, 2, 3, 1) + 1.0) * 127.5).type(torch.uint8).numpy()[0])"
   ]
  },
  {
   "cell_type": "code",
   "execution_count": 42,
   "id": "1a027b23-b580-4bcc-83b6-83cd2bb3ba18",
   "metadata": {},
   "outputs": [
    {
     "data": {
      "image/jpeg": "[encoded data removed]",
      "image/png": "[encoded data removed]",
      "text/plain": [
       "<PIL.Image.Image image mode=RGB size=64x64>"
      ]
     },
     "execution_count": 42,
     "metadata": {},
     "output_type": "execute_result"
    }
   ],
   "source": [
    "Image.fromarray(((noisy_image.cpu().permute(0, 2, 3, 1) + 1.0) * 127.5).type(torch.uint8).numpy()[0])"
   ]
  },
  {
   "cell_type": "code",
   "execution_count": 154,
   "id": "d52164dd-e497-4bec-90f4-e185d6d0aaf0",
   "metadata": {},
   "outputs": [
    {
     "data": {
      "text/plain": [
       "torch.Size([1, 3, 64, 64])"
      ]
     },
     "execution_count": 154,
     "metadata": {},
     "output_type": "execute_result"
    }
   ],
   "source": [
    "noisy_image.shape"
   ]
  },
  {
   "cell_type": "code",
   "execution_count": 187,
   "id": "dc9baf5a-f220-47ac-ab1f-796eebfe933f",
   "metadata": {},
   "outputs": [
    {
     "data": {
      "image/jpeg": "[encoded data removed]",
      "image/png": "[encoded data removed]",
      "text/plain": [
       "<PIL.Image.Image image mode=RGB size=64x64>"
      ]
     },
     "execution_count": 187,
     "metadata": {},
     "output_type": "execute_result"
    }
   ],
   "source": [
    "_s_i = torch.randn(1, 3, 64, 64)\n",
    "noise = torch.randn(_s_i.shape)\n",
    "timesteps = torch.LongTensor([100])\n",
    "noisy_image = scheduler.add_noise(_s_i, noise, timesteps)\n",
    "\n",
    "Image.fromarray(((noisy_image.permute(0, 2, 3, 1) + 1.0) * 127.5).type(torch.uint8).numpy()[0])"
   ]
  },
  {
   "cell_type": "code",
   "execution_count": 198,
   "id": "f6721c77-14da-416c-9eb7-709b40f78cdc",
   "metadata": {},
   "outputs": [],
   "source": [
    "denoised = noisy_image.clone()\n",
    "current_timesteps = 100\n",
    "for _ in range(40):\n",
    "    pred_noise, pred_timestep = model(denoised.to(device), torch.LongTensor([current_timesteps]))\n",
    "    ts = pred_timestep.argmax(-1)\n",
    "    alp = scheduler.alphas_cumprod[ts.to(scheduler.alphas_cumprod.device)]\n",
    "    # noise2 = torch.randn(sample_image.shape)\n",
    "    denoised = denoise(denoised, alp, pred_noise.sample.to(device))\n",
    "    current_timesteps -= 1"
   ]
  },
  {
   "cell_type": "code",
   "execution_count": 199,
   "id": "53868273-0050-473d-bdcd-f4fd8af513c4",
   "metadata": {},
   "outputs": [
    {
     "data": {
      "image/jpeg": "[encoded data removed]",
      "image/png": "[encoded data removed]",
      "text/plain": [
       "<PIL.Image.Image image mode=RGB size=64x64>"
      ]
     },
     "execution_count": 199,
     "metadata": {},
     "output_type": "execute_result"
    }
   ],
   "source": [
    "Image.fromarray(((denoised.cpu().permute(0, 2, 3, 1) + 1.0) * 127.5).type(torch.uint8).numpy()[0])"
   ]
  },
  {
   "cell_type": "code",
   "execution_count": null,
   "id": "1789d19f-5c30-47c4-9bd7-fd2533c86b63",
   "metadata": {},
   "outputs": [],
   "source": []
  }
 ],
 "metadata": {
  "kernelspec": {
   "display_name": "Python 3 (ipykernel)",
   "language": "python",
   "name": "python3"
  },
  "language_info": {
   "codemirror_mode": {
    "name": "ipython",
    "version": 3
   },
   "file_extension": ".py",
   "mimetype": "text/x-python",
   "name": "python",
   "nbconvert_exporter": "python",
   "pygments_lexer": "ipython3",
   "version": "3.10.14"
  }
 },
 "nbformat": 4,
 "nbformat_minor": 5
}
