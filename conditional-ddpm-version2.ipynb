{
 "cells": [
  {
   "cell_type": "code",
   "execution_count": 1,
   "id": "9ae59469-5329-4195-a43a-2643831037a2",
   "metadata": {},
   "outputs": [],
   "source": [
    "from typing import Dict, Tuple\n",
    "from tqdm.auto import trange, tqdm\n",
    "import torch\n",
    "import numpy as np\n",
    "import torch.nn as nn\n",
    "import torch.nn.functional as F\n",
    "from torch.utils.data import DataLoader\n",
    "from torchvision.transforms import Compose, ToTensor, Lambda, ToPILImage, CenterCrop, Resize\n",
    "from torchvision.utils import save_image, make_grid\n",
    "import matplotlib.pyplot as plt\n",
    "from matplotlib.animation import FuncAnimation, PillowWriter\n",
    "from torchvision.datasets import ImageFolder\n",
    "from torchvision import transforms\n",
    "from torchvision.utils import save_image, make_grid"
   ]
  },
  {
   "cell_type": "code",
   "execution_count": 2,
   "id": "7fd7f2a7-3b69-415c-bb6b-f12383cca66e",
   "metadata": {},
   "outputs": [],
   "source": [
    "class ConvBlock(nn.Module):\n",
    "    def __init__(self, input_channels: int, output_channels: int, use_residual: bool = False) -> None:\n",
    "        super().__init__()\n",
    "        self.match_channels = input_channels == output_channels\n",
    "        self.use_residual = use_residual\n",
    "        self.first_conv = nn.Sequential(\n",
    "            nn.Conv2d(input_channels, output_channels, 3, 1, 1),\n",
    "            nn.BatchNorm2d(output_channels),\n",
    "            nn.GELU(),\n",
    "        )\n",
    "        self.second_conv = nn.Sequential(\n",
    "            nn.Conv2d(output_channels, output_channels, 3, 1, 1),\n",
    "            nn.BatchNorm2d(output_channels),\n",
    "            nn.GELU(),\n",
    "        )\n",
    "\n",
    "    def forward(self, input_tensor: torch.Tensor) -> torch.Tensor:\n",
    "        if self.use_residual:\n",
    "            conv1_output = self.first_conv(input_tensor)\n",
    "            conv2_output = self.second_conv(conv1_output)\n",
    "            if self.match_channels:\n",
    "                output = input_tensor + conv2_output\n",
    "            else:\n",
    "                output = conv1_output + conv2_output\n",
    "            return output / 1.414\n",
    "        else:\n",
    "            conv1_output = self.first_conv(input_tensor)\n",
    "            return self.second_conv(conv1_output)\n",
    "\n",
    "\n",
    "class DownBlock(nn.Module):\n",
    "    def __init__(self, input_channels, output_channels):\n",
    "        super().__init__()\n",
    "        modules = [ConvBlock(input_channels, output_channels), nn.MaxPool2d(2)]\n",
    "        self.sequence = nn.Sequential(*modules)\n",
    "\n",
    "    def forward(self, input_tensor):\n",
    "        return self.sequence(input_tensor)\n",
    "\n",
    "\n",
    "class UpBlock(nn.Module):\n",
    "    def __init__(self, input_channels, output_channels):\n",
    "        super().__init__()\n",
    "        modules = [\n",
    "            nn.ConvTranspose2d(input_channels, output_channels, 2, 2),\n",
    "            ConvBlock(output_channels, output_channels),\n",
    "            ConvBlock(output_channels, output_channels),\n",
    "        ]\n",
    "        self.sequence = nn.Sequential(*modules)\n",
    "\n",
    "    def forward(self, input_tensor, concatenated_tensor):\n",
    "        combined_tensor = torch.cat((input_tensor, concatenated_tensor), 1)\n",
    "        return self.sequence(combined_tensor)\n",
    "\n",
    "\n",
    "class FCBlock(nn.Module):\n",
    "    def __init__(self, input_dimension, embedding_dimension):\n",
    "        super().__init__()\n",
    "        self.input_dimension = input_dimension\n",
    "        modules = [\n",
    "            nn.Linear(input_dimension, embedding_dimension),\n",
    "            nn.GELU(),\n",
    "            nn.Linear(embedding_dimension, embedding_dimension),\n",
    "        ]\n",
    "        self.sequence = nn.Sequential(*modules)\n",
    "\n",
    "    def forward(self, input_tensor):\n",
    "        reshaped_tensor = input_tensor.view(-1, self.input_dimension)\n",
    "        return self.sequence(reshaped_tensor)\n",
    "\n",
    "\n",
    "class EnhancedUnet(nn.Module):\n",
    "    def __init__(self, input_channels, feature_dim = 256, num_classes=10):\n",
    "        super().__init__()\n",
    "        self.input_channels = input_channels\n",
    "        self.feature_dim = feature_dim\n",
    "        self.num_classes = num_classes\n",
    "\n",
    "        self.initial_conv = ConvBlock(input_channels, feature_dim, use_residual=True)\n",
    "\n",
    "        self.down_block1 = DownBlock(feature_dim, feature_dim)\n",
    "        self.down_block2 = DownBlock(feature_dim, 2 * feature_dim)\n",
    "\n",
    "        self.flatten = nn.Sequential(nn.AvgPool2d(7), nn.GELU())\n",
    "\n",
    "        self.temporal_embedding1 = FCBlock(1, 2*feature_dim)\n",
    "        self.temporal_embedding2 = FCBlock(1, feature_dim)\n",
    "        self.context_embedding1 = FCBlock(num_classes, 2*feature_dim)\n",
    "        self.context_embedding2 = FCBlock(num_classes, feature_dim)\n",
    "\n",
    "        self.up_sample = nn.Sequential(\n",
    "            nn.ConvTranspose2d(2 * feature_dim, 2 * feature_dim, kernel_size=16, stride=8, padding=4),\n",
    "            nn.GroupNorm(8, 2 * feature_dim),\n",
    "            nn.ReLU(),\n",
    "        )\n",
    "\n",
    "        self.up_block1 = UpBlock(4 * feature_dim, feature_dim)\n",
    "        self.up_block2 = UpBlock(2 * feature_dim, feature_dim)\n",
    "        self.final_conv = nn.Sequential(\n",
    "            nn.Conv2d(2 * feature_dim, feature_dim, 3, 1, 1),\n",
    "            nn.GroupNorm(8, feature_dim),\n",
    "            nn.ReLU(),\n",
    "            nn.Conv2d(feature_dim, self.input_channels, 3, 1, 1),\n",
    "        )\n",
    "\n",
    "    def forward(self, input_tensor, context, time_step, mask):\n",
    "        processed_tensor = self.initial_conv(input_tensor)\n",
    "        down1_output = self.down_block1(processed_tensor)\n",
    "        down2_output = self.down_block2(down1_output)\n",
    "        hidden_vector = self.flatten(down2_output)\n",
    "\n",
    "        context_onehot = nn.functional.one_hot(context, num_classes=self.num_classes).type(torch.float)\n",
    "        masked_context = mask[:, None].repeat(1, self.num_classes)\n",
    "        masked_context = (-1 * (1 - masked_context))\n",
    "        masked_context = context_onehot * masked_context\n",
    "\n",
    "        context_emb1 = self.context_embedding1(masked_context).view(-1, self.feature_dim * 2, 1, 1)\n",
    "        time_emb1 = self.temporal_embedding1(time_step).view(-1, self.feature_dim * 2, 1, 1)\n",
    "        context_emb2 = self.context_embedding2(masked_context).view(-1, self.feature_dim, 1, 1)\n",
    "        time_emb2 = self.temporal_embedding2(time_step).view(-1, self.feature_dim, 1, 1)\n",
    "\n",
    "        up1_output = self.up_sample(hidden_vector)\n",
    "        up2_output = self.up_block1(context_emb1 * up1_output + time_emb1, down2_output)\n",
    "        final_output = self.up_block2(context_emb2 * up2_output + time_emb2, down1_output)\n",
    "        return self.final_conv(torch.cat((final_output, processed_tensor), 1))\n",
    "\n",
    "\n",
    "def schedule_ddpm(beta_start, beta_end, total_steps):\n",
    "    beta_range = (beta_end - beta_start) * torch.arange(0, total_steps + 1, dtype=torch.float32) / total_steps + beta_start\n",
    "    sqrt_beta = torch.sqrt(beta_range)\n",
    "    alpha = 1 - beta_range\n",
    "    log_alpha = torch.log(alpha)\n",
    "    cumulative_alpha = torch.cumsum(log_alpha, dim=0).exp()\n",
    "\n",
    "    sqrt_cum_alpha = torch.sqrt(cumulative_alpha)\n",
    "    one_over_sqrt_alpha = 1 / torch.sqrt(alpha)\n",
    "\n",
    "    sqrt_one_minus_cum_alpha = torch.sqrt(1 - cumulative_alpha)\n",
    "    one_minus_alpha_over_sqrt_one_minus_cum_alpha = (1 - alpha) / sqrt_one_minus_cum_alpha\n",
    "\n",
    "    return {\n",
    "        \"alpha\": alpha,\n",
    "        \"one_over_sqrt_alpha\": one_over_sqrt_alpha,\n",
    "        \"sqrt_beta\": sqrt_beta,\n",
    "        \"cumulative_alpha\": cumulative_alpha,\n",
    "        \"sqrt_cum_alpha\": sqrt_cum_alpha,\n",
    "        \"sqrt_one_minus_cum_alpha\": sqrt_one_minus_cum_alpha,\n",
    "        \"one_minus_alpha_over_sqrt_one_minus_cum_alpha\": one_minus_alpha_over_sqrt_one_minus_cum_alpha,\n",
    "    }\n",
    "\n",
    "\n",
    "class DiffusionModel(nn.Module):\n",
    "    def __init__(self, model, betas, num_steps, device, dropout_probability=0.1):\n",
    "        super().__init__()\n",
    "        self.model = model.to(device)\n",
    "        for key, value in schedule_ddpm(betas[0], betas[1], num_steps).items():\n",
    "            self.register_buffer(key, value)\n",
    "\n",
    "        self.num_steps = num_steps\n",
    "        self.device = device\n",
    "        self.dropout_probability = dropout_probability\n",
    "        self.mse_loss = nn.MSELoss()\n",
    "\n",
    "    def forward(self, input_tensor, context):\n",
    "        time_indices = torch.randint(1, self.num_steps+1, (input_tensor.shape[0],)).to(self.device)\n",
    "        random_noise = torch.randn_like(input_tensor)\n",
    "\n",
    "        processed_tensor = (\n",
    "            self.sqrt_cum_alpha[time_indices, None, None, None] * input_tensor\n",
    "            + self.sqrt_one_minus_cum_alpha[time_indices, None, None, None] * random_noise\n",
    "        )\n",
    "        context_dropout = torch.bernoulli(torch.zeros_like(context)+self.dropout_probability).to(self.device)\n",
    "        return self.mse_loss(random_noise, self.model(processed_tensor, context, time_indices / self.num_steps, context_dropout))\n",
    "\n",
    "    def sample(self, sample_count, dimensions, device, guidance_weight = 0.0):\n",
    "        initial_noise = torch.randn(sample_count, *dimensions).to(device)\n",
    "        context_indices = torch.arange(0, self.model.num_classes).to(device)\n",
    "        context_indices = context_indices.repeat(int(sample_count / context_indices.shape[0]))\n",
    "\n",
    "        context_mask = torch.zeros_like(context_indices).to(device)\n",
    "\n",
    "        context_indices = context_indices.repeat(2)\n",
    "        context_mask = context_mask.repeat(2)\n",
    "        context_mask[sample_count:] = 1.0\n",
    "\n",
    "        stored_samples = []\n",
    "        for time_step in range(self.num_steps, 0, -1):\n",
    "            print(f'Sampling timestep {time_step}',end='\\r')\n",
    "            time_tensor = torch.tensor([time_step / self.num_steps]).to(device)\n",
    "            time_tensor = time_tensor.repeat(sample_count, 1, 1, 1)\n",
    "\n",
    "            initial_noise = initial_noise.repeat(2, 1, 1, 1)\n",
    "            time_tensor = time_tensor.repeat(2, 1, 1, 1)\n",
    "\n",
    "            additional_noise = torch.randn(sample_count, *dimensions).to(device) if time_step > 1 else 0\n",
    "\n",
    "            predicted_noise = self.model(initial_noise, context_indices, time_tensor, context_mask)\n",
    "            predicted_noise1 = predicted_noise[:sample_count]\n",
    "            predicted_noise2 = predicted_noise[sample_count:]\n",
    "            predicted_noise = (1 + guidance_weight) * predicted_noise1 - guidance_weight * predicted_noise2\n",
    "            initial_noise = initial_noise[:sample_count]\n",
    "            initial_noise = (\n",
    "                self.one_over_sqrt_alpha[time_step] * (initial_noise - predicted_noise * self.one_minus_alpha_over_sqrt_one_minus_cum_alpha[time_step])\n",
    "                + self.sqrt_beta[time_step] * additional_noise\n",
    "            )\n",
    "            if time_step % 20 == 0 or time_step == self.num_steps or time_step < 8:\n",
    "                stored_samples.append(initial_noise.detach().cpu().numpy())\n",
    "\n",
    "        stored_samples = np.array(stored_samples)\n",
    "        return initial_noise, stored_samples\n",
    "\n",
    "\n"
   ]
  },
  {
   "cell_type": "code",
   "execution_count": null,
   "id": "7175ca86-52fa-4d13-8e04-b77dae9c7390",
   "metadata": {},
   "outputs": [
    {
     "data": {
      "application/vnd.jupyter.widget-view+json": {
       "model_id": "e6828c3228624dcbbbd0d8d4d7c84d11",
       "version_major": 2,
       "version_minor": 0
      },
      "text/plain": [
       "Epoch:   0%|          | 0/500 [00:00<?, ?it/s]"
      ]
     },
     "metadata": {},
     "output_type": "display_data"
    },
    {
     "data": {
      "application/vnd.jupyter.widget-view+json": {
       "model_id": "b12b94252f7e4c5c93c431fb11dceef4",
       "version_major": 2,
       "version_minor": 0
      },
      "text/plain": [
       "  0%|          | 0/65 [00:00<?, ?it/s]"
      ]
     },
     "metadata": {},
     "output_type": "display_data"
    },
    {
     "name": "stdout",
     "output_type": "stream",
     "text": [
      "Saved image at ./outputs-v2/image_epoch0_w0.0.png\n",
      "Saved image at ./outputs-v2/gif_epoch0_w0.0.gif\n",
      "Saved image at ./outputs-v2/image_epoch0_w0.5.png\n",
      "Saved image at ./outputs-v2/gif_epoch0_w0.5.gif\n",
      "Saved image at ./outputs-v2/image_epoch0_w2.0.png\n",
      "Saved image at ./outputs-v2/gif_epoch0_w2.0.gif\n"
     ]
    },
    {
     "data": {
      "application/vnd.jupyter.widget-view+json": {
       "model_id": "0c46d004f0c34ac59eb4d9b0da74ba79",
       "version_major": 2,
       "version_minor": 0
      },
      "text/plain": [
       "  0%|          | 0/65 [00:00<?, ?it/s]"
      ]
     },
     "metadata": {},
     "output_type": "display_data"
    },
    {
     "data": {
      "application/vnd.jupyter.widget-view+json": {
       "model_id": "639db58394674387a43d40d16011df27",
       "version_major": 2,
       "version_minor": 0
      },
      "text/plain": [
       "  0%|          | 0/65 [00:00<?, ?it/s]"
      ]
     },
     "metadata": {},
     "output_type": "display_data"
    },
    {
     "data": {
      "application/vnd.jupyter.widget-view+json": {
       "model_id": "ba42aeba9b544349a740d839b38e0f89",
       "version_major": 2,
       "version_minor": 0
      },
      "text/plain": [
       "  0%|          | 0/65 [00:00<?, ?it/s]"
      ]
     },
     "metadata": {},
     "output_type": "display_data"
    },
    {
     "data": {
      "application/vnd.jupyter.widget-view+json": {
       "model_id": "4580b51a89a54feab36a5cecd9ef2c02",
       "version_major": 2,
       "version_minor": 0
      },
      "text/plain": [
       "  0%|          | 0/65 [00:00<?, ?it/s]"
      ]
     },
     "metadata": {},
     "output_type": "display_data"
    },
    {
     "data": {
      "application/vnd.jupyter.widget-view+json": {
       "model_id": "7d6fa545b819419788128d54decb1b0b",
       "version_major": 2,
       "version_minor": 0
      },
      "text/plain": [
       "  0%|          | 0/65 [00:00<?, ?it/s]"
      ]
     },
     "metadata": {},
     "output_type": "display_data"
    },
    {
     "data": {
      "application/vnd.jupyter.widget-view+json": {
       "model_id": "26cd7379fee44b20b168a0d055aa54fc",
       "version_major": 2,
       "version_minor": 0
      },
      "text/plain": [
       "  0%|          | 0/65 [00:00<?, ?it/s]"
      ]
     },
     "metadata": {},
     "output_type": "display_data"
    },
    {
     "data": {
      "application/vnd.jupyter.widget-view+json": {
       "model_id": "b7680667fd444ae79d0665b03dbec654",
       "version_major": 2,
       "version_minor": 0
      },
      "text/plain": [
       "  0%|          | 0/65 [00:00<?, ?it/s]"
      ]
     },
     "metadata": {},
     "output_type": "display_data"
    },
    {
     "data": {
      "application/vnd.jupyter.widget-view+json": {
       "model_id": "32d22faa2510494b889b8d74515781b8",
       "version_major": 2,
       "version_minor": 0
      },
      "text/plain": [
       "  0%|          | 0/65 [00:00<?, ?it/s]"
      ]
     },
     "metadata": {},
     "output_type": "display_data"
    },
    {
     "data": {
      "application/vnd.jupyter.widget-view+json": {
       "model_id": "835010c649dc4e5a85a2b705f8a63a51",
       "version_major": 2,
       "version_minor": 0
      },
      "text/plain": [
       "  0%|          | 0/65 [00:00<?, ?it/s]"
      ]
     },
     "metadata": {},
     "output_type": "display_data"
    },
    {
     "data": {
      "application/vnd.jupyter.widget-view+json": {
       "model_id": "9f657018550f4452b6e842fc90e749ff",
       "version_major": 2,
       "version_minor": 0
      },
      "text/plain": [
       "  0%|          | 0/65 [00:00<?, ?it/s]"
      ]
     },
     "metadata": {},
     "output_type": "display_data"
    },
    {
     "data": {
      "application/vnd.jupyter.widget-view+json": {
       "model_id": "22a0ff949f1f442d82dd4292b7f0ec6b",
       "version_major": 2,
       "version_minor": 0
      },
      "text/plain": [
       "  0%|          | 0/65 [00:00<?, ?it/s]"
      ]
     },
     "metadata": {},
     "output_type": "display_data"
    },
    {
     "data": {
      "application/vnd.jupyter.widget-view+json": {
       "model_id": "2c7aac9da3e34a84974f13857e148288",
       "version_major": 2,
       "version_minor": 0
      },
      "text/plain": [
       "  0%|          | 0/65 [00:00<?, ?it/s]"
      ]
     },
     "metadata": {},
     "output_type": "display_data"
    },
    {
     "data": {
      "application/vnd.jupyter.widget-view+json": {
       "model_id": "2c1d1d26301047d19481fcacc18fd7d6",
       "version_major": 2,
       "version_minor": 0
      },
      "text/plain": [
       "  0%|          | 0/65 [00:00<?, ?it/s]"
      ]
     },
     "metadata": {},
     "output_type": "display_data"
    },
    {
     "data": {
      "application/vnd.jupyter.widget-view+json": {
       "model_id": "5162deb24575411bba337a62672e7476",
       "version_major": 2,
       "version_minor": 0
      },
      "text/plain": [
       "  0%|          | 0/65 [00:00<?, ?it/s]"
      ]
     },
     "metadata": {},
     "output_type": "display_data"
    },
    {
     "data": {
      "application/vnd.jupyter.widget-view+json": {
       "model_id": "2d7f4033a8df4505baaa091ddcfdb987",
       "version_major": 2,
       "version_minor": 0
      },
      "text/plain": [
       "  0%|          | 0/65 [00:00<?, ?it/s]"
      ]
     },
     "metadata": {},
     "output_type": "display_data"
    },
    {
     "data": {
      "application/vnd.jupyter.widget-view+json": {
       "model_id": "842c4cf5d67a441ab90c2d16f2456d1f",
       "version_major": 2,
       "version_minor": 0
      },
      "text/plain": [
       "  0%|          | 0/65 [00:00<?, ?it/s]"
      ]
     },
     "metadata": {},
     "output_type": "display_data"
    },
    {
     "data": {
      "application/vnd.jupyter.widget-view+json": {
       "model_id": "4adc75d169ee43818cc20c20ce4c0d4b",
       "version_major": 2,
       "version_minor": 0
      },
      "text/plain": [
       "  0%|          | 0/65 [00:00<?, ?it/s]"
      ]
     },
     "metadata": {},
     "output_type": "display_data"
    },
    {
     "data": {
      "application/vnd.jupyter.widget-view+json": {
       "model_id": "631c8eaf49034983abcbc8498fee9ead",
       "version_major": 2,
       "version_minor": 0
      },
      "text/plain": [
       "  0%|          | 0/65 [00:00<?, ?it/s]"
      ]
     },
     "metadata": {},
     "output_type": "display_data"
    },
    {
     "data": {
      "application/vnd.jupyter.widget-view+json": {
       "model_id": "e201b66930984a568281ce615722c68c",
       "version_major": 2,
       "version_minor": 0
      },
      "text/plain": [
       "  0%|          | 0/65 [00:00<?, ?it/s]"
      ]
     },
     "metadata": {},
     "output_type": "display_data"
    },
    {
     "data": {
      "application/vnd.jupyter.widget-view+json": {
       "model_id": "419689bbab26432c87b5a8bf91e52ce8",
       "version_major": 2,
       "version_minor": 0
      },
      "text/plain": [
       "  0%|          | 0/65 [00:00<?, ?it/s]"
      ]
     },
     "metadata": {},
     "output_type": "display_data"
    },
    {
     "name": "stdout",
     "output_type": "stream",
     "text": [
      "Saved image at ./outputs-v2/image_epoch20_w0.0.png\n",
      "Saved image at ./outputs-v2/image_epoch20_w0.5.png\n",
      "Saved image at ./outputs-v2/image_epoch20_w2.0.png\n"
     ]
    },
    {
     "data": {
      "application/vnd.jupyter.widget-view+json": {
       "model_id": "3f116a0cd30a4eb8bda1123229b3ee90",
       "version_major": 2,
       "version_minor": 0
      },
      "text/plain": [
       "  0%|          | 0/65 [00:00<?, ?it/s]"
      ]
     },
     "metadata": {},
     "output_type": "display_data"
    },
    {
     "data": {
      "application/vnd.jupyter.widget-view+json": {
       "model_id": "116ad9bdc75d4fa285554bca91991079",
       "version_major": 2,
       "version_minor": 0
      },
      "text/plain": [
       "  0%|          | 0/65 [00:00<?, ?it/s]"
      ]
     },
     "metadata": {},
     "output_type": "display_data"
    },
    {
     "data": {
      "application/vnd.jupyter.widget-view+json": {
       "model_id": "a3ee3c512d9847ab9ed38f7e851e37f6",
       "version_major": 2,
       "version_minor": 0
      },
      "text/plain": [
       "  0%|          | 0/65 [00:00<?, ?it/s]"
      ]
     },
     "metadata": {},
     "output_type": "display_data"
    },
    {
     "data": {
      "application/vnd.jupyter.widget-view+json": {
       "model_id": "ad3ca4ca19f74d9ba37d7ef35a9731ea",
       "version_major": 2,
       "version_minor": 0
      },
      "text/plain": [
       "  0%|          | 0/65 [00:00<?, ?it/s]"
      ]
     },
     "metadata": {},
     "output_type": "display_data"
    },
    {
     "data": {
      "application/vnd.jupyter.widget-view+json": {
       "model_id": "dd05a3835b3c4218aa793077366dc6f0",
       "version_major": 2,
       "version_minor": 0
      },
      "text/plain": [
       "  0%|          | 0/65 [00:00<?, ?it/s]"
      ]
     },
     "metadata": {},
     "output_type": "display_data"
    },
    {
     "data": {
      "application/vnd.jupyter.widget-view+json": {
       "model_id": "3f681072736f4101895aa02ae9590277",
       "version_major": 2,
       "version_minor": 0
      },
      "text/plain": [
       "  0%|          | 0/65 [00:00<?, ?it/s]"
      ]
     },
     "metadata": {},
     "output_type": "display_data"
    },
    {
     "data": {
      "application/vnd.jupyter.widget-view+json": {
       "model_id": "17c2b8bdbab74b1daa86039f58e7e5b0",
       "version_major": 2,
       "version_minor": 0
      },
      "text/plain": [
       "  0%|          | 0/65 [00:00<?, ?it/s]"
      ]
     },
     "metadata": {},
     "output_type": "display_data"
    },
    {
     "data": {
      "application/vnd.jupyter.widget-view+json": {
       "model_id": "9120a9e5055840eab9c0e1208b60051f",
       "version_major": 2,
       "version_minor": 0
      },
      "text/plain": [
       "  0%|          | 0/65 [00:00<?, ?it/s]"
      ]
     },
     "metadata": {},
     "output_type": "display_data"
    },
    {
     "data": {
      "application/vnd.jupyter.widget-view+json": {
       "model_id": "e46062a43dd8474d8e614310b5b006b5",
       "version_major": 2,
       "version_minor": 0
      },
      "text/plain": [
       "  0%|          | 0/65 [00:00<?, ?it/s]"
      ]
     },
     "metadata": {},
     "output_type": "display_data"
    },
    {
     "data": {
      "application/vnd.jupyter.widget-view+json": {
       "model_id": "e2e3d7dd9dce4619b28a2bbb88310f39",
       "version_major": 2,
       "version_minor": 0
      },
      "text/plain": [
       "  0%|          | 0/65 [00:00<?, ?it/s]"
      ]
     },
     "metadata": {},
     "output_type": "display_data"
    },
    {
     "data": {
      "application/vnd.jupyter.widget-view+json": {
       "model_id": "a269a7a3d535458193eab00c01c81d03",
       "version_major": 2,
       "version_minor": 0
      },
      "text/plain": [
       "  0%|          | 0/65 [00:00<?, ?it/s]"
      ]
     },
     "metadata": {},
     "output_type": "display_data"
    },
    {
     "data": {
      "application/vnd.jupyter.widget-view+json": {
       "model_id": "da7716ca916c433ba65ec601349892b7",
       "version_major": 2,
       "version_minor": 0
      },
      "text/plain": [
       "  0%|          | 0/65 [00:00<?, ?it/s]"
      ]
     },
     "metadata": {},
     "output_type": "display_data"
    },
    {
     "data": {
      "application/vnd.jupyter.widget-view+json": {
       "model_id": "d4a1746467a2488eaa1030a94dc2540c",
       "version_major": 2,
       "version_minor": 0
      },
      "text/plain": [
       "  0%|          | 0/65 [00:00<?, ?it/s]"
      ]
     },
     "metadata": {},
     "output_type": "display_data"
    },
    {
     "data": {
      "application/vnd.jupyter.widget-view+json": {
       "model_id": "8c2968086cfc4ab0a3bb960918a660a0",
       "version_major": 2,
       "version_minor": 0
      },
      "text/plain": [
       "  0%|          | 0/65 [00:00<?, ?it/s]"
      ]
     },
     "metadata": {},
     "output_type": "display_data"
    },
    {
     "data": {
      "application/vnd.jupyter.widget-view+json": {
       "model_id": "40e94b341294422a860066cc2c27512c",
       "version_major": 2,
       "version_minor": 0
      },
      "text/plain": [
       "  0%|          | 0/65 [00:00<?, ?it/s]"
      ]
     },
     "metadata": {},
     "output_type": "display_data"
    },
    {
     "data": {
      "application/vnd.jupyter.widget-view+json": {
       "model_id": "b7ee2c4d70794ed980ef69dfc028746f",
       "version_major": 2,
       "version_minor": 0
      },
      "text/plain": [
       "  0%|          | 0/65 [00:00<?, ?it/s]"
      ]
     },
     "metadata": {},
     "output_type": "display_data"
    },
    {
     "data": {
      "application/vnd.jupyter.widget-view+json": {
       "model_id": "99a9e3c855e84f7d8c34464cd98f5adf",
       "version_major": 2,
       "version_minor": 0
      },
      "text/plain": [
       "  0%|          | 0/65 [00:00<?, ?it/s]"
      ]
     },
     "metadata": {},
     "output_type": "display_data"
    },
    {
     "data": {
      "application/vnd.jupyter.widget-view+json": {
       "model_id": "0b3d33f3ce4c4be89920bc9470d22070",
       "version_major": 2,
       "version_minor": 0
      },
      "text/plain": [
       "  0%|          | 0/65 [00:00<?, ?it/s]"
      ]
     },
     "metadata": {},
     "output_type": "display_data"
    },
    {
     "data": {
      "application/vnd.jupyter.widget-view+json": {
       "model_id": "fe558a07c33748a2b3f0ee34c2abb302",
       "version_major": 2,
       "version_minor": 0
      },
      "text/plain": [
       "  0%|          | 0/65 [00:00<?, ?it/s]"
      ]
     },
     "metadata": {},
     "output_type": "display_data"
    },
    {
     "data": {
      "application/vnd.jupyter.widget-view+json": {
       "model_id": "49ac1a550d744bbb8fc04578a4ff477f",
       "version_major": 2,
       "version_minor": 0
      },
      "text/plain": [
       "  0%|          | 0/65 [00:00<?, ?it/s]"
      ]
     },
     "metadata": {},
     "output_type": "display_data"
    },
    {
     "name": "stdout",
     "output_type": "stream",
     "text": [
      "Saved image at ./outputs-v2/image_epoch40_w0.0.png\n",
      "Saved image at ./outputs-v2/image_epoch40_w0.5.png\n",
      "Saved image at ./outputs-v2/image_epoch40_w2.0.png\n"
     ]
    },
    {
     "data": {
      "application/vnd.jupyter.widget-view+json": {
       "model_id": "a96f13259c8344b081cc0c16ceb9fdb3",
       "version_major": 2,
       "version_minor": 0
      },
      "text/plain": [
       "  0%|          | 0/65 [00:00<?, ?it/s]"
      ]
     },
     "metadata": {},
     "output_type": "display_data"
    },
    {
     "data": {
      "application/vnd.jupyter.widget-view+json": {
       "model_id": "72ef8163e49443c6aadc19046f7973b3",
       "version_major": 2,
       "version_minor": 0
      },
      "text/plain": [
       "  0%|          | 0/65 [00:00<?, ?it/s]"
      ]
     },
     "metadata": {},
     "output_type": "display_data"
    },
    {
     "data": {
      "application/vnd.jupyter.widget-view+json": {
       "model_id": "4c6d84ab7ce54cb688e334017dc40510",
       "version_major": 2,
       "version_minor": 0
      },
      "text/plain": [
       "  0%|          | 0/65 [00:00<?, ?it/s]"
      ]
     },
     "metadata": {},
     "output_type": "display_data"
    },
    {
     "data": {
      "application/vnd.jupyter.widget-view+json": {
       "model_id": "b3cdee92a4d947da852a7bfb72a1f943",
       "version_major": 2,
       "version_minor": 0
      },
      "text/plain": [
       "  0%|          | 0/65 [00:00<?, ?it/s]"
      ]
     },
     "metadata": {},
     "output_type": "display_data"
    },
    {
     "data": {
      "application/vnd.jupyter.widget-view+json": {
       "model_id": "27039f24f43643598806a9b59090772b",
       "version_major": 2,
       "version_minor": 0
      },
      "text/plain": [
       "  0%|          | 0/65 [00:00<?, ?it/s]"
      ]
     },
     "metadata": {},
     "output_type": "display_data"
    },
    {
     "data": {
      "application/vnd.jupyter.widget-view+json": {
       "model_id": "392f3cac69c94ae78d4c36c3283cf581",
       "version_major": 2,
       "version_minor": 0
      },
      "text/plain": [
       "  0%|          | 0/65 [00:00<?, ?it/s]"
      ]
     },
     "metadata": {},
     "output_type": "display_data"
    },
    {
     "data": {
      "application/vnd.jupyter.widget-view+json": {
       "model_id": "222f548dfdac432394e5be12cad935af",
       "version_major": 2,
       "version_minor": 0
      },
      "text/plain": [
       "  0%|          | 0/65 [00:00<?, ?it/s]"
      ]
     },
     "metadata": {},
     "output_type": "display_data"
    },
    {
     "data": {
      "application/vnd.jupyter.widget-view+json": {
       "model_id": "b10d2550739e463eb0c283de20d32def",
       "version_major": 2,
       "version_minor": 0
      },
      "text/plain": [
       "  0%|          | 0/65 [00:00<?, ?it/s]"
      ]
     },
     "metadata": {},
     "output_type": "display_data"
    },
    {
     "data": {
      "application/vnd.jupyter.widget-view+json": {
       "model_id": "661b657170c441d8aca9ab3b365be489",
       "version_major": 2,
       "version_minor": 0
      },
      "text/plain": [
       "  0%|          | 0/65 [00:00<?, ?it/s]"
      ]
     },
     "metadata": {},
     "output_type": "display_data"
    },
    {
     "data": {
      "application/vnd.jupyter.widget-view+json": {
       "model_id": "94be90800c3446c2b2683bb462e8da5e",
       "version_major": 2,
       "version_minor": 0
      },
      "text/plain": [
       "  0%|          | 0/65 [00:00<?, ?it/s]"
      ]
     },
     "metadata": {},
     "output_type": "display_data"
    },
    {
     "data": {
      "application/vnd.jupyter.widget-view+json": {
       "model_id": "d4e3afb8a81e496e99ec67c6da577020",
       "version_major": 2,
       "version_minor": 0
      },
      "text/plain": [
       "  0%|          | 0/65 [00:00<?, ?it/s]"
      ]
     },
     "metadata": {},
     "output_type": "display_data"
    },
    {
     "data": {
      "application/vnd.jupyter.widget-view+json": {
       "model_id": "c5822a49dda44dc1ab0365394c34976d",
       "version_major": 2,
       "version_minor": 0
      },
      "text/plain": [
       "  0%|          | 0/65 [00:00<?, ?it/s]"
      ]
     },
     "metadata": {},
     "output_type": "display_data"
    },
    {
     "data": {
      "application/vnd.jupyter.widget-view+json": {
       "model_id": "8545922b16f6435d8d2d00ae3939c377",
       "version_major": 2,
       "version_minor": 0
      },
      "text/plain": [
       "  0%|          | 0/65 [00:00<?, ?it/s]"
      ]
     },
     "metadata": {},
     "output_type": "display_data"
    },
    {
     "data": {
      "application/vnd.jupyter.widget-view+json": {
       "model_id": "2be391ffa7234fe9bbd5bb1c101aa3db",
       "version_major": 2,
       "version_minor": 0
      },
      "text/plain": [
       "  0%|          | 0/65 [00:00<?, ?it/s]"
      ]
     },
     "metadata": {},
     "output_type": "display_data"
    },
    {
     "data": {
      "application/vnd.jupyter.widget-view+json": {
       "model_id": "b5111782f6f345ac914b3a8541c82f48",
       "version_major": 2,
       "version_minor": 0
      },
      "text/plain": [
       "  0%|          | 0/65 [00:00<?, ?it/s]"
      ]
     },
     "metadata": {},
     "output_type": "display_data"
    },
    {
     "data": {
      "application/vnd.jupyter.widget-view+json": {
       "model_id": "0c8e18acd943488489178fc9672622bf",
       "version_major": 2,
       "version_minor": 0
      },
      "text/plain": [
       "  0%|          | 0/65 [00:00<?, ?it/s]"
      ]
     },
     "metadata": {},
     "output_type": "display_data"
    },
    {
     "data": {
      "application/vnd.jupyter.widget-view+json": {
       "model_id": "93d2368eca074398bd5bb597295b8672",
       "version_major": 2,
       "version_minor": 0
      },
      "text/plain": [
       "  0%|          | 0/65 [00:00<?, ?it/s]"
      ]
     },
     "metadata": {},
     "output_type": "display_data"
    },
    {
     "data": {
      "application/vnd.jupyter.widget-view+json": {
       "model_id": "a2847a3018644a3d9c3dec01a2353477",
       "version_major": 2,
       "version_minor": 0
      },
      "text/plain": [
       "  0%|          | 0/65 [00:00<?, ?it/s]"
      ]
     },
     "metadata": {},
     "output_type": "display_data"
    },
    {
     "data": {
      "application/vnd.jupyter.widget-view+json": {
       "model_id": "b464d4c3716e442c9c87433a265ab451",
       "version_major": 2,
       "version_minor": 0
      },
      "text/plain": [
       "  0%|          | 0/65 [00:00<?, ?it/s]"
      ]
     },
     "metadata": {},
     "output_type": "display_data"
    },
    {
     "data": {
      "application/vnd.jupyter.widget-view+json": {
       "model_id": "9d34b74e009845348b8136d84774a1ca",
       "version_major": 2,
       "version_minor": 0
      },
      "text/plain": [
       "  0%|          | 0/65 [00:00<?, ?it/s]"
      ]
     },
     "metadata": {},
     "output_type": "display_data"
    },
    {
     "name": "stdout",
     "output_type": "stream",
     "text": [
      "Saved image at ./outputs-v2/image_epoch60_w0.0.png\n",
      "Saved image at ./outputs-v2/image_epoch60_w0.5.png\n",
      "Saved image at ./outputs-v2/image_epoch60_w2.0.png\n"
     ]
    },
    {
     "data": {
      "application/vnd.jupyter.widget-view+json": {
       "model_id": "5e6177b9d753424e8bebdb4047e947d9",
       "version_major": 2,
       "version_minor": 0
      },
      "text/plain": [
       "  0%|          | 0/65 [00:00<?, ?it/s]"
      ]
     },
     "metadata": {},
     "output_type": "display_data"
    },
    {
     "data": {
      "application/vnd.jupyter.widget-view+json": {
       "model_id": "81c2bad0b8414f8dae9c15f44957d98e",
       "version_major": 2,
       "version_minor": 0
      },
      "text/plain": [
       "  0%|          | 0/65 [00:00<?, ?it/s]"
      ]
     },
     "metadata": {},
     "output_type": "display_data"
    },
    {
     "data": {
      "application/vnd.jupyter.widget-view+json": {
       "model_id": "a86ecda602af411e9002f930be6f3601",
       "version_major": 2,
       "version_minor": 0
      },
      "text/plain": [
       "  0%|          | 0/65 [00:00<?, ?it/s]"
      ]
     },
     "metadata": {},
     "output_type": "display_data"
    },
    {
     "data": {
      "application/vnd.jupyter.widget-view+json": {
       "model_id": "a79ecc02fcee4a8b9a055169c8cfa848",
       "version_major": 2,
       "version_minor": 0
      },
      "text/plain": [
       "  0%|          | 0/65 [00:00<?, ?it/s]"
      ]
     },
     "metadata": {},
     "output_type": "display_data"
    },
    {
     "data": {
      "application/vnd.jupyter.widget-view+json": {
       "model_id": "432e8cabf7cb461f8ab45989761dd975",
       "version_major": 2,
       "version_minor": 0
      },
      "text/plain": [
       "  0%|          | 0/65 [00:00<?, ?it/s]"
      ]
     },
     "metadata": {},
     "output_type": "display_data"
    },
    {
     "data": {
      "application/vnd.jupyter.widget-view+json": {
       "model_id": "eb308bcec77f4584a335750b93a68004",
       "version_major": 2,
       "version_minor": 0
      },
      "text/plain": [
       "  0%|          | 0/65 [00:00<?, ?it/s]"
      ]
     },
     "metadata": {},
     "output_type": "display_data"
    },
    {
     "data": {
      "application/vnd.jupyter.widget-view+json": {
       "model_id": "07b0c06dd3cf4eb4b9b5feb4c3ff7dd6",
       "version_major": 2,
       "version_minor": 0
      },
      "text/plain": [
       "  0%|          | 0/65 [00:00<?, ?it/s]"
      ]
     },
     "metadata": {},
     "output_type": "display_data"
    },
    {
     "data": {
      "application/vnd.jupyter.widget-view+json": {
       "model_id": "a26c874c229f4c468136049dbc64ba22",
       "version_major": 2,
       "version_minor": 0
      },
      "text/plain": [
       "  0%|          | 0/65 [00:00<?, ?it/s]"
      ]
     },
     "metadata": {},
     "output_type": "display_data"
    },
    {
     "data": {
      "application/vnd.jupyter.widget-view+json": {
       "model_id": "9d94938085b9439880610e168a1f35fc",
       "version_major": 2,
       "version_minor": 0
      },
      "text/plain": [
       "  0%|          | 0/65 [00:00<?, ?it/s]"
      ]
     },
     "metadata": {},
     "output_type": "display_data"
    }
   ],
   "source": [
    "from tqdm.auto import tqdm, trange\n",
    "from torchvision.datasets import ImageFolder\n",
    "\n",
    "from torchvision.utils import save_image, make_grid\n",
    "from torch.utils.data import DataLoader\n",
    "import torch.optim as optim\n",
    "import torch\n",
    "\n",
    "# Configuration and Setup\n",
    "epochs = 500\n",
    "batch_size = 32\n",
    "steps = 500\n",
    "device_setting = \"cuda:2\"\n",
    "classes = 5\n",
    "features = 256\n",
    "rate = 8e-5\n",
    "save_check = True\n",
    "output_path = './outputs-v2/'\n",
    "weights = [0.0, 0.5, 2.0]\n",
    "eval_every = 20\n",
    "\n",
    "# Model Initialization\n",
    "model = DiffusionModel(\n",
    "    model=EnhancedUnet(input_channels=3, feature_dim=features, num_classes=classes),\n",
    "    betas=[1e-4, 0.02], num_steps=steps, device=device_setting, dropout_probability=0.1)\n",
    "model.to(device_setting)\n",
    "\n",
    "# Data Loading\n",
    "\n",
    "image_size = 128\n",
    "transform = Compose([\n",
    "    Resize(image_size),\n",
    "    CenterCrop(image_size),\n",
    "    ToTensor(), # turn into torch Tensor of shape CHW, divide by 255\n",
    "    Lambda(lambda t: (t * 2) - 1), \n",
    "])\n",
    "reverse_transform = Compose([\n",
    "     Lambda(lambda t: (t + 1) / 2),\n",
    "     Lambda(lambda t: t.permute(1, 2, 0)), # CHW to HWC\n",
    "     Lambda(lambda t: t * 255.),\n",
    "     Lambda(lambda t: t.numpy().astype(np.uint8)),\n",
    "     ToPILImage(),\n",
    "])\n",
    "dataset_path = \"transient-attr-images/train\"\n",
    "ds = ImageFolder(root=dataset_path, transform=transform)\n",
    "loader = DataLoader(ds, batch_size=batch_size, shuffle=True, num_workers=0)\n",
    "\n",
    "# Optimizer\n",
    "opt = optim.Adam(model.parameters(), lr=rate)\n",
    "\n",
    "# Training\n",
    "for epoch in trange(epochs, desc=\"Epoch\"):\n",
    "    model.train()\n",
    "    opt.param_groups[0]['lr'] = rate * (1 - epoch / epochs)\n",
    "    progress = tqdm(loader)\n",
    "    current_loss = None\n",
    "\n",
    "    for imgs, labels in progress:\n",
    "        opt.zero_grad()\n",
    "        imgs = imgs.to(device_setting)\n",
    "        labels = labels.to(device_setting)\n",
    "        loss = model(imgs, labels)\n",
    "        loss.backward()\n",
    "        opt.step()\n",
    "\n",
    "        if current_loss is None:\n",
    "            current_loss = loss.item()\n",
    "        else:\n",
    "            current_loss = 0.95 * current_loss + 0.05 * loss.item()\n",
    "        progress.set_description(f\"Loss: {current_loss:.4f}\")\n",
    "\n",
    "    if epoch % eval_every == 0:\n",
    "        model.eval()\n",
    "        with torch.no_grad():\n",
    "            sample_count = 4 * classes\n",
    "            for weight_index, weight in enumerate(weights):\n",
    "                generated, stored_samples = model.sample(sample_count, (3, 128, 128), device_setting, weight)\n",
    "                real_imgs = torch.Tensor(generated.shape).to(device_setting)\n",
    "                \n",
    "                for class_index in range(classes):\n",
    "                    for sample_index in range(sample_count // classes):\n",
    "                        try:\n",
    "                            index = torch.squeeze((labels == class_index).nonzero(as_tuple=False)[sample_index])\n",
    "                        except:\n",
    "                            index = 0\n",
    "                        real_imgs[class_index + (sample_index * classes)] = imgs[index]\n",
    "\n",
    "                combined = torch.cat([generated, real_imgs])\n",
    "                grid = make_grid(combined * -1 + 1, nrow=10)\n",
    "                save_image(grid, f\"{output_path}image_epoch{epoch}_w{weight}.png\")\n",
    "                print(f'Saved image at {output_path}image_epoch{epoch}_w{weight}.png')\n",
    "                \n",
    "                if epoch % 50 == 0 or epoch == int(epochs-1):\n",
    "                    fig, axs = plt.subplots(nrows=int(sample_count/classes), ncols=classes,sharex=True,sharey=True,figsize=(30,10))\n",
    "                    def animate_diff(i, x_gen_store):\n",
    "                        print(f'gif animating frame {i} of {x_gen_store.shape[0]}', end='\\r')\n",
    "                        plots = []\n",
    "                        for row in range(int(sample_count/classes)):\n",
    "                            for col in range(classes):\n",
    "                                axs[row, col].clear()\n",
    "                                axs[row, col].set_xticks([])\n",
    "                                axs[row, col].set_yticks([])\n",
    "                                # plots.append(axs[row, col].imshow(x_gen_store[i,(row*n_classes)+col,0],cmap='gray'))\n",
    "                                plots.append(axs[row, col].imshow(-x_gen_store[i,(row*classes)+col,0],cmap='gray',vmin=(-x_gen_store[i]).min(), vmax=(-x_gen_store[i]).max()))\n",
    "                        return plots\n",
    "                    ani = FuncAnimation(fig, animate_diff, fargs=[stored_samples],  interval=200, blit=False, repeat=True, frames=stored_samples.shape[0])    \n",
    "                    ani.save(f\"{output_path}gif_epoch{epoch}_w{weight}.gif\", dpi=100, writer=PillowWriter(fps=5))\n",
    "                    print(f\"Saved image at {output_path}gif_epoch{epoch}_w{weight}.gif\")\n",
    "\n",
    "    if save_check and epoch == epochs - 1:\n",
    "        torch.save(model.state_dict(), f\"{output_path}model_epoch{epoch}.pth\")\n",
    "        print(f'Model saved at {output_path}model_epoch{epoch}.pth')\n"
   ]
  },
  {
   "cell_type": "code",
   "execution_count": null,
   "id": "2f6e6f29-e0eb-46dd-9404-b3d46f10f698",
   "metadata": {},
   "outputs": [],
   "source": [
    "!nvidia-smi"
   ]
  },
  {
   "cell_type": "code",
   "execution_count": null,
   "id": "9c16289f-d672-497c-b9df-c1e72a79f159",
   "metadata": {},
   "outputs": [],
   "source": [
    "torch.save(model.state_dict(), \"model-latest.pth\")"
   ]
  },
  {
   "cell_type": "code",
   "execution_count": null,
   "id": "eff9d4e2-5a39-4be2-851a-f2a3ccd6a56d",
   "metadata": {},
   "outputs": [],
   "source": []
  },
  {
   "cell_type": "code",
   "execution_count": null,
   "id": "000c09b3-877e-4495-a652-9d262865b47b",
   "metadata": {},
   "outputs": [],
   "source": []
  }
 ],
 "metadata": {
  "kernelspec": {
   "display_name": "Python 3",
   "language": "python",
   "name": "python3"
  },
  "language_info": {
   "codemirror_mode": {
    "name": "ipython",
    "version": 3
   },
   "file_extension": ".py",
   "mimetype": "text/x-python",
   "name": "python",
   "nbconvert_exporter": "python",
   "pygments_lexer": "ipython3",
   "version": "3.9.18"
  }
 },
 "nbformat": 4,
 "nbformat_minor": 5
}
